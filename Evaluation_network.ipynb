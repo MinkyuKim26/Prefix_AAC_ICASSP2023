{
 "cells": [
  {
   "cell_type": "code",
   "execution_count": 2,
   "id": "61264c48",
   "metadata": {},
   "outputs": [
    {
     "name": "stderr",
     "output_type": "stream",
     "text": [
      "get dataset...: 100%|███████████████████████| 960/960 [00:00<00:00, 1403.23it/s]\n",
      "/home/cuai5th/anaconda3/envs/pytorch1.8_p38/lib/python3.8/site-packages/torchlibrosa/stft.py:193: FutureWarning: Pass size=512 as keyword args. From version 0.10 passing these as positional arguments will result in an error\n",
      "  fft_window = librosa.util.pad_center(fft_window, n_fft)\n",
      "/home/cuai5th/anaconda3/envs/pytorch1.8_p38/lib/python3.8/site-packages/librosa/util/decorators.py:88: UserWarning: Empty filters detected in mel frequency basis. Some channels will produce empty responses. Try increasing your sampling rate (and fmax) or reducing n_mels.\n",
      "  return f(*args, **kwargs)\n"
     ]
    },
    {
     "name": "stdout",
     "output_type": "stream",
     "text": [
      "audio feature's mapping network : num_head = 8 num_layers = 4\n",
      "semantic feature ver1's mapping network : num_head = 8 num_layers = 4\n",
      "GPT2 freezing\n"
     ]
    }
   ],
   "source": [
    "from typing import List, Tuple\n",
    "import torch\n",
    "import copy\n",
    "import os\n",
    "import sys\n",
    "\n",
    "# custom\n",
    "from AudioCaps.AudioCaps_Dataset import * # 데이터셋\n",
    "from transformers import GPT2Tokenizer\n",
    "from ClipCap_forAAC.CLIPCAP_forAAC import * # network\n",
    "from Train import *\n",
    "import warnings\n",
    "warnings.filterwarnings(\"ignore\", category=DeprecationWarning) \n",
    "\n",
    "data_dir = './AudioCaps'\n",
    "\n",
    "# PANNs를 써먹기 위해 prefix_size를 수정\n",
    "audio_prefix_size = 15\n",
    "semantic_prefix_size = 11 \n",
    "prefix_size = audio_prefix_size + semantic_prefix_size\n",
    "\n",
    "transformer_num_layers = {\"audio_num_layers\" : 4, \"semantic_num_layers\" : 4}\n",
    "prefix_size_dict = {\"audio_prefix_size\" : audio_prefix_size, \"semantic_prefix_size\" : semantic_prefix_size}\n",
    "\n",
    "\n",
    "# vocab_size===============\n",
    "# Custom Tokeniezr1 : 7911\n",
    "# Custom Tokeniezr2 : 5084\n",
    "# ACT Tokeniezr : 5069\n",
    "# Clotho Tokeniezr : 4992\n",
    "# GPT2 Tokenizer : None\n",
    "# vocab_size===============\n",
    "\n",
    "vocab_size = None\n",
    "tokenizer_type = None\n",
    "\n",
    "if vocab_size ! = None :\n",
    "    tokenizer = tokenizer_AudioCaps(vocab_size)\n",
    "    tokenizer_type = 'Custom'\n",
    "    model_param_name = 'model_AudioCaps_Custom_' + str(vocab_size) + \".pt\"\n",
    "else :\n",
    "    tokenizer = GPT2Tokenizer.from_pretrained(\"gpt2\")\n",
    "    tokenizer_type = 'GPT2'\n",
    "    model_param_name = 'model_AudioCaps_GPT2_header_freezing.pt'\n",
    "\n",
    "TEST_BATCH_SIZE = 5\n",
    "test_dataloader  = dataloader_AudioCapsDataset(tokenizer, data_dir, TEST_BATCH_SIZE, split = 'test', prefix_size = prefix_size, is_TrainDataset = False, tokenizer_type = tokenizer_type)\n",
    "\n",
    "torch.cuda.empty_cache()\n",
    "\n",
    "USE_CUDA = torch.cuda.is_available() \n",
    "device = torch.device('cuda:0' if USE_CUDA else 'cpu')\n",
    "\n",
    "model = get_ClipCap_AAC(tokenizer, \n",
    "                        vocab_size = vocab_size, Dataset = 'AudioCaps',\n",
    "                        prefix_size_dict = prefix_size_dict, transformer_num_layers = transformer_num_layers, \n",
    "                        encoder_freeze = False, decoder_freeze = True,\n",
    "                        pretrain_fromAudioCaps = False, device = device)"
   ]
  },
  {
   "cell_type": "code",
   "execution_count": 4,
   "id": "8551bf48",
   "metadata": {},
   "outputs": [
    {
     "ename": "NameError",
     "evalue": "name 'model' is not defined",
     "output_type": "error",
     "traceback": [
      "\u001b[0;31m---------------------------------------------------------------------------\u001b[0m",
      "\u001b[0;31mNameError\u001b[0m                                 Traceback (most recent call last)",
      "Input \u001b[0;32mIn [4]\u001b[0m, in \u001b[0;36m<cell line: 1>\u001b[0;34m()\u001b[0m\n\u001b[0;32m----> 1\u001b[0m \u001b[43mmodel\u001b[49m\u001b[38;5;241m.\u001b[39mload_state_dict(torch\u001b[38;5;241m.\u001b[39mload(\u001b[38;5;124m\"\u001b[39m\u001b[38;5;124mTrain_record/params_exp_5_Case_3_audiocaps/\u001b[39m\u001b[38;5;124m\"\u001b[39m \u001b[38;5;241m+\u001b[39m \u001b[38;5;124m\"\u001b[39m\u001b[38;5;124mParam_epoch_14.pt\u001b[39m\u001b[38;5;124m\"\u001b[39m))\n",
      "\u001b[0;31mNameError\u001b[0m: name 'model' is not defined"
     ]
    }
   ],
   "source": [
    "model_path = './Train_record/' + model_param_name\n",
    "model.load_state_dict(torch.load(model_path))"
   ]
  },
  {
   "cell_type": "code",
   "execution_count": null,
   "id": "e223ff35",
   "metadata": {},
   "outputs": [],
   "source": [
    "eval_model(model, test_dataloader, 31, 'test', True)"
   ]
  }
 ],
 "metadata": {
  "kernelspec": {
   "display_name": "pytorch1.8_p38",
   "language": "python",
   "name": "pytorch1.8_p38"
  },
  "language_info": {
   "codemirror_mode": {
    "name": "ipython",
    "version": 3
   },
   "file_extension": ".py",
   "mimetype": "text/x-python",
   "name": "python",
   "nbconvert_exporter": "python",
   "pygments_lexer": "ipython3",
   "version": "3.8.12"
  }
 },
 "nbformat": 4,
 "nbformat_minor": 5
}
