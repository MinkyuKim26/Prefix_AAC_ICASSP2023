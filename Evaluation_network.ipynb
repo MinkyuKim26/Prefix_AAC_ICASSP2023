{
 "cells": [
  {
   "cell_type": "code",
   "execution_count": null,
   "id": "61264c48",
   "metadata": {},
   "outputs": [],
   "source": [
    "import torch\n",
    "\n",
    "# custom\n",
    "from AudioCaps.AudioCaps_Dataset import * # 데이터셋\n",
    "from Clotho.Clotho_Dataset import * # 데이터셋\n",
    "from transformers import GPT2Tokenizer\n",
    "from ClipCap_forAAC.CLIPCAP_forAAC import * # network\n",
    "from Train import *\n",
    "from util import *\n",
    "\n",
    "# PANNs를 써먹기 위해 prefix_size를 수정\n",
    "temporal_prefix_size = 15\n",
    "global_prefix_size = 11 \n",
    "prefix_size = temporal_prefix_size + global_prefix_size\n",
    "\n",
    "transformer_num_layers = {\"temporal_num_layers\" : 4, \"global_num_layers\" : 4}\n",
    "prefix_size_dict = {\"temporal_prefix_size\" : temporal_prefix_size, \"global_prefix_size\" : global_prefix_size}\n",
    "\n",
    "\n",
    "dataset = 'AudioCaps' # 'AudioCaps' or 'Clotho'\n",
    "tokenizer_type = 'Custom' # 'GPT2' or 'Custom'\n",
    "\n",
    "TEST_BATCH_SIZE = 5\n",
    "vocab_size = None\n",
    "\n",
    "if tokenizer_type == 'Custom' :\n",
    "    tokenizer = tokenizer_forCustomVocab(Dataset = dataset)\n",
    "    model_param_name = 'model_AudioCaps_own_vocab.pt'\n",
    "    vocab_size = len(tokenizer.vocab)\n",
    "else :\n",
    "    tokenizer = GPT2Tokenizer.from_pretrained(\"gpt2\")\n",
    "    model_param_name = 'model_Clotho_GPT2_header_freezing.pt'\n",
    "\n",
    "if dataset == 'AudioCaps' :\n",
    "    data_dir = './AudioCaps'\n",
    "    split = 'test'\n",
    "elif dataset == 'Clotho' :\n",
    "    data_dir = './Clotho'\n",
    "    split = 'evaluation'"
   ]
  },
  {
   "cell_type": "code",
   "execution_count": null,
   "id": "8551bf48",
   "metadata": {},
   "outputs": [],
   "source": [
    "test_dataloader = CreateDataloader(tokenizer, data_dir, TEST_BATCH_SIZE, split, prefix_size, is_TrainDataset = False, tokenizer_type = tokenizer_type)\n",
    "\n",
    "torch.cuda.empty_cache()\n",
    "\n",
    "USE_CUDA = torch.cuda.is_available() \n",
    "device = torch.device('cuda:0' if USE_CUDA else 'cpu')"
   ]
  },
  {
   "cell_type": "code",
   "execution_count": null,
   "id": "e223ff35",
   "metadata": {},
   "outputs": [],
   "source": [
    "model = get_ClipCap_AAC(tokenizer, \n",
    "                        vocab_size = vocab_size, Dataset = dataset,\n",
    "                        prefix_size_dict = prefix_size_dict, transformer_num_layers = transformer_num_layers, \n",
    "                        encoder_freeze = False, decoder_freeze = True,\n",
    "                        pretrain_fromAudioCaps = False, device = device)\n",
    "\n",
    "model_path = './Trained_model_params/' + model_param_name\n",
    "model.load_state_dict(torch.load(model_path))"
   ]
  },
  {
   "cell_type": "code",
   "execution_count": null,
   "id": "e04d33b0",
   "metadata": {},
   "outputs": [],
   "source": [
    "\n",
    "eval_model(model, test_dataloader, 31, 'test', True)"
   ]
  }
 ],
 "metadata": {
  "interpreter": {
   "hash": "aac1938eb6913997aabd086dca6066ca74adbc6b4a9aafd1e6821241d3ac0498"
  },
  "kernelspec": {
   "display_name": "Python 3.8.8 ('base')",
   "language": "python",
   "name": "python3"
  },
  "language_info": {
   "codemirror_mode": {
    "name": "ipython",
    "version": 3
   },
   "file_extension": ".py",
   "mimetype": "text/x-python",
   "name": "python",
   "nbconvert_exporter": "python",
   "pygments_lexer": "ipython3",
   "version": "3.8.8"
  }
 },
 "nbformat": 4,
 "nbformat_minor": 5
}
