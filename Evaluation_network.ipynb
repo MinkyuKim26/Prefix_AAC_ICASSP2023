{
 "cells": [
  {
   "cell_type": "code",
   "execution_count": 1,
   "id": "61264c48",
   "metadata": {},
   "outputs": [
    {
     "name": "stdout",
     "output_type": "stream",
     "text": [
      "random_seed : 2766\n",
      "vocab_size : 10640\n"
     ]
    },
    {
     "name": "stderr",
     "output_type": "stream",
     "text": [
      "get dataset...: 100%|█████████████████████| 960/960 [00:00<00:00, 1383.66it/s]\n",
      "get dataset...: 100%|████████████████████| 1045/1045 [00:06<00:00, 164.29it/s]\n"
     ]
    }
   ],
   "source": [
    "import torch\n",
    "import os\n",
    "import sys\n",
    "import random\n",
    "\n",
    "# custom\n",
    "from util import *\n",
    "from transformers import GPT2Tokenizer\n",
    "from ClipCap_forAAC.CLIPCAP_forAAC import * # network\n",
    "from Train import *\n",
    "import warnings\n",
    "warnings.filterwarnings(\"ignore\", category=DeprecationWarning) \n",
    "\n",
    "data_dir = './Clotho'\n",
    "\n",
    "# PANNs를 써먹기 위해 prefix_size를 수정\n",
    "temporal_prefix_size = 15\n",
    "global_prefix_size = 11\n",
    "prefix_size = temporal_prefix_size + global_prefix_size\n",
    "\n",
    "transformer_num_layers = {\"temporal_num_layers\" : 4, \"global_num_layers\" : 4}\n",
    "prefix_size_dict = {\"temporal_prefix_size\" : temporal_prefix_size, \"global_prefix_size\" : global_prefix_size}\n",
    "\n",
    "vocab_size = None\n",
    "tokenizer_type = 'Custom'\n",
    "\n",
    "if tokenizer_type == 'Custom' :\n",
    "    tokenizer = tokenizer_forCustomVocab(Dataset = data_dir[2:])\n",
    "    vocab_size = len(tokenizer.vocab)\n",
    "elif tokenizer_type == 'GPT2' :\n",
    "    tokenizer = GPT2Tokenizer.from_pretrained(\"gpt2\")\n",
    "\n",
    "random_seed=2766\n",
    "torch.manual_seed(random_seed)\n",
    "torch.cuda.manual_seed(random_seed)\n",
    "torch.cuda.manual_seed_all(random_seed)\n",
    "torch.backends.cudnn.benchmark=False\n",
    "torch.backends.cudnn.deterministic=True\n",
    "np.random.seed(random_seed)\n",
    "random.seed(random_seed)  \n",
    "\n",
    "print(\"random_seed :\", random_seed)\n",
    "print(\"vocab_size :\", vocab_size)\n",
    "    \n",
    "TEST_BATCH_SIZE = 5\n",
    "\n",
    "if prefix_size == 0 :\n",
    "    prefix_size = 26\n",
    "\n",
    "test_dataloader_audiocaps  = CreateDataloader(tokenizer, './AudioCaps', TEST_BATCH_SIZE, 'test', prefix_size, is_TrainDataset = False, tokenizer_type = tokenizer_type)\n",
    "test_dataloader_clotho = CreateDataloader(tokenizer, './Clotho', TEST_BATCH_SIZE, 'evaluation', prefix_size, is_TrainDataset = False, tokenizer_type = tokenizer_type)"
   ]
  },
  {
   "cell_type": "code",
   "execution_count": 2,
   "id": "8551bf48",
   "metadata": {},
   "outputs": [],
   "source": [
    "torch.cuda.empty_cache()\n",
    "\n",
    "USE_CUDA = torch.cuda.is_available() \n",
    "device = torch.device('cuda:0' if USE_CUDA else 'cpu')"
   ]
  },
  {
   "cell_type": "code",
   "execution_count": 3,
   "id": "e223ff35",
   "metadata": {
    "scrolled": true
   },
   "outputs": [
    {
     "name": "stderr",
     "output_type": "stream",
     "text": [
      "/home/cuai5th/anaconda3/envs/minkyu_env/lib/python3.8/site-packages/torchlibrosa/stft.py:193: FutureWarning: Pass size=512 as keyword args. From version 0.10 passing these as positional arguments will result in an error\n",
      "  fft_window = librosa.util.pad_center(fft_window, n_fft)\n",
      "/home/cuai5th/anaconda3/envs/minkyu_env/lib/python3.8/site-packages/librosa/util/decorators.py:88: UserWarning: Empty filters detected in mel frequency basis. Some channels will produce empty responses. Try increasing your sampling rate (and fmax) or reducing n_mels.\n",
      "  return f(*args, **kwargs)\n"
     ]
    },
    {
     "name": "stdout",
     "output_type": "stream",
     "text": [
      "use Custom Tokenizer\n",
      "temporal feature's mapping network : num_head = 8 num_layers = 4\n",
      "global feature ver's mapping network : num_head = 8 num_layers = 4\n",
      "Get Pre-traiend Params\n",
      "Get Pre-traiend language header\n",
      "GPT2 freezing\n"
     ]
    }
   ],
   "source": [
    "model = get_ClipCap_AAC(tokenizer, \n",
    "                        vocab_size = vocab_size, Dataset = data_dir[2:],\n",
    "                        prefix_size_dict = prefix_size_dict, transformer_num_layers = transformer_num_layers, \n",
    "                        encoder_freeze = False, decoder_freeze = True,\n",
    "                        pretrain_fromAudioCaps = True, device = device)"
   ]
  },
  {
   "cell_type": "code",
   "execution_count": 4,
   "id": "46cc001a",
   "metadata": {},
   "outputs": [
    {
     "data": {
      "text/plain": [
       "<All keys matched successfully>"
      ]
     },
     "execution_count": 4,
     "metadata": {},
     "output_type": "execute_result"
    }
   ],
   "source": [
    "model_path = './Train_record/params_Custom_header_10640_clotho_2766CustomHeader/Param_epoch_19.pt'\n",
    "\n",
    "params = torch.load(model_path, map_location = device)\n",
    "\n",
    "model.load_state_dict(params) "
   ]
  },
  {
   "cell_type": "code",
   "execution_count": 5,
   "id": "179bd43b",
   "metadata": {},
   "outputs": [],
   "source": [
    "# get_pred_captions(model, test_dataloader_audiocaps, device, dataset = 'AudioCaps') \n",
    "# get_pred_captions(model, test_dataloader_clotho, device, dataset = 'Clotho') "
   ]
  },
  {
   "cell_type": "code",
   "execution_count": 6,
   "id": "4cd27429",
   "metadata": {},
   "outputs": [
    {
     "name": "stderr",
     "output_type": "stream",
     "text": [
      "Eval using dataset...: 100%|██████████████| 1045/1045 [03:48<00:00,  4.57it/s]\n"
     ]
    },
    {
     "name": "stdout",
     "output_type": "stream",
     "text": [
      "loading annotations into memory...\n",
      "0:00:00.006910\n",
      "creating index...\n",
      "index created!\n",
      "Loading and preparing results...     \n",
      "DONE (t=0.00s)\n",
      "creating index...\n",
      "index created!\n",
      "tokenization...\n"
     ]
    },
    {
     "name": "stderr",
     "output_type": "stream",
     "text": [
      "PTBTokenizer tokenized 70696 tokens at 475271.06 tokens per second.\n",
      "PTBTokenizer tokenized 11930 tokens at 122243.48 tokens per second.\n"
     ]
    },
    {
     "name": "stdout",
     "output_type": "stream",
     "text": [
      "setting up scorers...\n",
      "computing Bleu score...\n",
      "{'testlen': 9840, 'reflen': 10288, 'guess': [9840, 8795, 7750, 6705], 'correct': [5772, 2326, 925, 286]}\n",
      "ratio: 0.9564541213062834\n",
      "Bleu_1: 0.560\n",
      "Bleu_2: 0.376\n",
      "Bleu_3: 0.253\n",
      "Bleu_4: 0.160\n",
      "computing METEOR score...\n",
      "METEOR: 0.170\n",
      "computing Rouge score...\n",
      "ROUGE_L: 0.378\n",
      "computing CIDEr score...\n",
      "CIDEr: 0.392\n",
      "computing SPICE score...\n"
     ]
    },
    {
     "name": "stderr",
     "output_type": "stream",
     "text": [
      "Parsing reference captions\n",
      "Parsing test captions\n"
     ]
    },
    {
     "name": "stdout",
     "output_type": "stream",
     "text": [
      "SPICE evaluation took: 1.948 s\n",
      "SPICE: 0.118\n",
      "computing SPIDEr score...\n",
      "SPIDEr: 0.255\n"
     ]
    }
   ],
   "source": [
    "metrics, captions_pred, captions_gt = eval_model(model, test_dataloader_clotho, 31, 'test', True, device, 'AudioCaps')"
   ]
  },
  {
   "cell_type": "code",
   "execution_count": 8,
   "id": "7058d9f5",
   "metadata": {},
   "outputs": [],
   "source": [
    "with open('clotho_customheader_pred_captions.pickle', 'wb') as f:\n",
    "    pickle.dump(captions_pred, f, pickle.HIGHEST_PROTOCOL)"
   ]
  },
  {
   "cell_type": "code",
   "execution_count": 7,
   "id": "3d5052c6",
   "metadata": {},
   "outputs": [
    {
     "name": "stdout",
     "output_type": "stream",
     "text": [
      "Rain on awning, canopy.wav\n",
      "rain is falling down on the ground.\n"
     ]
    }
   ],
   "source": [
    "for i in range(len(captions_pred)):\n",
    "    if captions_pred[i]['file_name'] == 'Rain on awning, canopy.wav' :\n",
    "        print(captions_pred[i]['file_name'])\n",
    "        print(captions_pred[i]['caption_predicted'])"
   ]
  },
  {
   "cell_type": "code",
   "execution_count": 9,
   "id": "52e59add",
   "metadata": {},
   "outputs": [],
   "source": [
    "d = sorted(metrics['cider']['scores'].items(), key = lambda item: item[1], reverse=True)"
   ]
  },
  {
   "cell_type": "code",
   "execution_count": 35,
   "id": "688a50b8",
   "metadata": {},
   "outputs": [
    {
     "data": {
      "text/plain": [
       "('Snow crunch.wav', 1.3038218118558262)"
      ]
     },
     "execution_count": 35,
     "metadata": {},
     "output_type": "execute_result"
    }
   ],
   "source": [
    "d[45]"
   ]
  },
  {
   "cell_type": "code",
   "execution_count": null,
   "id": "b54c0492",
   "metadata": {},
   "outputs": [],
   "source": []
  }
 ],
 "metadata": {
  "interpreter": {
   "hash": "aac1938eb6913997aabd086dca6066ca74adbc6b4a9aafd1e6821241d3ac0498"
  },
  "kernelspec": {
   "display_name": "minkyu_env",
   "language": "python",
   "name": "minkyu_env"
  },
  "language_info": {
   "codemirror_mode": {
    "name": "ipython",
    "version": 3
   },
   "file_extension": ".py",
   "mimetype": "text/x-python",
   "name": "python",
   "nbconvert_exporter": "python",
   "pygments_lexer": "ipython3",
   "version": "3.8.12"
  }
 },
 "nbformat": 4,
 "nbformat_minor": 5
}
