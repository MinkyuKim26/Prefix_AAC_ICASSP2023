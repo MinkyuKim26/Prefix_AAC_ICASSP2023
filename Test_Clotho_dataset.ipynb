{
 "cells": [
  {
   "cell_type": "code",
   "execution_count": 1,
   "id": "80a7127a",
   "metadata": {},
   "outputs": [
    {
     "name": "stderr",
     "output_type": "stream",
     "text": [
      "get dataset...: 100%|██████████████████████| 1045/1045 [00:02<00:00, 516.75it/s]\n"
     ]
    }
   ],
   "source": [
    "import sys\n",
    "import torch\n",
    "# custom\n",
    "from Clotho.Clotho_Dataset import * # 데이터셋\n",
    "from transformers import GPT2Tokenizer\n",
    "from ClipCap_forAAC.CLIPCAP_forAAC import * # network\n",
    "from Train import *\n",
    "import warnings\n",
    "warnings.filterwarnings(\"ignore\", category=DeprecationWarning) \n",
    "\n",
    "data_dir = './Clotho'\n",
    "\n",
    "\n",
    "# PANNs를 써먹기 위해 prefix_size를 수정\n",
    "audio_prefix_size = 15\n",
    "semantic_prefix_size = 11\n",
    "prefix_size = audio_prefix_size + semantic_prefix_size\n",
    "\n",
    "# vocab_size = 5349\n",
    "# tokenizer_type = 'Custom'\n",
    "\n",
    "# tokenizer = tokenizer_Clotho(vocab_size)\n",
    "\n",
    "tokenizer_type = 'GPT2'\n",
    "tokenizer = GPT2Tokenizer.from_pretrained(\"gpt2\")\n",
    "\n",
    "TEST_BATCH_SIZE = 5\n",
    "test_dataloader  = dataloader_ClothoDataset(tokenizer, data_dir, TEST_BATCH_SIZE, split = 'evaluation', prefix_size = prefix_size, is_TrainDataset = False, tokenizer_type = tokenizer_type)\n",
    "\n",
    "# TRAIN_BATCH_SIZE = 16\n",
    "# train_dataloader = dataloader_ClothoDataset(tokenizer, data_dir, TRAIN_BATCH_SIZE, split = 'development', prefix_size = prefix_size, is_TrainDataset = True, tokenizer_type = tokenizer_type)"
   ]
  },
  {
   "cell_type": "code",
   "execution_count": 2,
   "id": "85bccaf0",
   "metadata": {},
   "outputs": [],
   "source": [
    "iter_ = iter(test_dataloader)"
   ]
  },
  {
   "cell_type": "code",
   "execution_count": 3,
   "id": "3a5d7cf6",
   "metadata": {},
   "outputs": [],
   "source": [
    "(audio, caption, f_name) = next(iter_)"
   ]
  },
  {
   "cell_type": "code",
   "execution_count": 4,
   "id": "e746b85d",
   "metadata": {},
   "outputs": [
    {
     "data": {
      "text/plain": [
       "tensor([[0.0008, 0.0013, 0.0011,  ..., 0.0000, 0.0000, 0.0000],\n",
       "        [0.0008, 0.0013, 0.0011,  ..., 0.0000, 0.0000, 0.0000],\n",
       "        [0.0008, 0.0013, 0.0011,  ..., 0.0000, 0.0000, 0.0000],\n",
       "        [0.0008, 0.0013, 0.0011,  ..., 0.0000, 0.0000, 0.0000],\n",
       "        [0.0008, 0.0013, 0.0011,  ..., 0.0000, 0.0000, 0.0000]])"
      ]
     },
     "execution_count": 4,
     "metadata": {},
     "output_type": "execute_result"
    }
   ],
   "source": [
    "audio"
   ]
  },
  {
   "cell_type": "code",
   "execution_count": 12,
   "id": "20ab5ff2",
   "metadata": {},
   "outputs": [
    {
     "data": {
      "text/plain": [
       "('a man walking who is blowing his nose hard and about to sneeze',\n",
       " 'a small dog with a flat face snoring and groaning',\n",
       " 'a small dog with a flat face is making noises by snoring and groaning',\n",
       " 'someone is walking near a lamb as it sniffs and whines',\n",
       " 'someone is walking toward a lamb then it is sniffs and whines')"
      ]
     },
     "execution_count": 12,
     "metadata": {},
     "output_type": "execute_result"
    }
   ],
   "source": [
    "caption"
   ]
  },
  {
   "cell_type": "code",
   "execution_count": 13,
   "id": "5ce51444",
   "metadata": {},
   "outputs": [
    {
     "data": {
      "text/plain": [
       "('01 A pug struggles to breathe 1_14_2008.wav',\n",
       " '01 A pug struggles to breathe 1_14_2008.wav',\n",
       " '01 A pug struggles to breathe 1_14_2008.wav',\n",
       " '01 A pug struggles to breathe 1_14_2008.wav',\n",
       " '01 A pug struggles to breathe 1_14_2008.wav')"
      ]
     },
     "execution_count": 13,
     "metadata": {},
     "output_type": "execute_result"
    }
   ],
   "source": [
    "f_name"
   ]
  },
  {
   "cell_type": "code",
   "execution_count": null,
   "id": "187f90ab",
   "metadata": {},
   "outputs": [],
   "source": []
  }
 ],
 "metadata": {
  "kernelspec": {
   "display_name": "minkyu_env",
   "language": "python",
   "name": "minkyu_env"
  },
  "language_info": {
   "codemirror_mode": {
    "name": "ipython",
    "version": 3
   },
   "file_extension": ".py",
   "mimetype": "text/x-python",
   "name": "python",
   "nbconvert_exporter": "python",
   "pygments_lexer": "ipython3",
   "version": "3.8.12"
  }
 },
 "nbformat": 4,
 "nbformat_minor": 5
}
