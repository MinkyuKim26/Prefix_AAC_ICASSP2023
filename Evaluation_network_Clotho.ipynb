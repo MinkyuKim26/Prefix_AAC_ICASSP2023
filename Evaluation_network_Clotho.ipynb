{
 "cells": [
  {
   "cell_type": "code",
   "execution_count": 1,
   "id": "61264c48",
   "metadata": {},
   "outputs": [
    {
     "name": "stderr",
     "output_type": "stream",
     "text": [
      "get dataset...: 100%|███████████████████████| 1045/1045 [00:49<00:00, 21.13it/s]\n",
      "/home/cuai5th/anaconda3/envs/minkyu_env/lib/python3.8/site-packages/torchlibrosa/stft.py:193: FutureWarning: Pass size=512 as keyword args. From version 0.10 passing these as positional arguments will result in an error\n",
      "  fft_window = librosa.util.pad_center(fft_window, n_fft)\n",
      "/home/cuai5th/anaconda3/envs/minkyu_env/lib/python3.8/site-packages/librosa/util/decorators.py:88: UserWarning: Empty filters detected in mel frequency basis. Some channels will produce empty responses. Try increasing your sampling rate (and fmax) or reducing n_mels.\n",
      "  return f(*args, **kwargs)\n"
     ]
    },
    {
     "name": "stdout",
     "output_type": "stream",
     "text": [
      "use Clotho Tokenizer\n",
      "audio feature's mapping network : num_head = 8 num_layers = 4\n",
      "semantic feature ver's mapping network : num_head = 8 num_layers = 4\n",
      "GPT2 freezing\n"
     ]
    }
   ],
   "source": [
    "from typing import List, Tuple\n",
    "import torch\n",
    "import copy\n",
    "import os\n",
    "import sys\n",
    "\n",
    "# custom\n",
    "from Clotho.Clotho_Dataset import * # 데이터셋\n",
    "from transformers import GPT2Tokenizer\n",
    "from ClipCap_forAAC.CLIPCAP_forAAC import * # network\n",
    "from Train import *\n",
    "import warnings\n",
    "warnings.filterwarnings(\"ignore\", category=DeprecationWarning) \n",
    "\n",
    "data_dir = './Clotho'\n",
    "\n",
    "# PANNs를 써먹기 위해 prefix_size를 수정\n",
    "audio_prefix_size = 15\n",
    "semantic_prefix_size = 11 \n",
    "prefix_size = audio_prefix_size + semantic_prefix_size\n",
    "\n",
    "transformer_num_layers = {\"audio_num_layers\" : 4, \"semantic_num_layers\" : 4}\n",
    "prefix_size_dict = {\"audio_prefix_size\" : audio_prefix_size, \"semantic_prefix_size\" : semantic_prefix_size}\n",
    "\n",
    "\n",
    "# vocab_size===============\n",
    "# Custom Tokeniezr1 : 10627\n",
    "# Custom Tokeniezr2 : 6524\n",
    "# Clotho Tokeniezr : 6427\n",
    "# vocab_size===============\n",
    "\n",
    "vocab_size = 6427\n",
    "tokenizer_type = 'Custom'\n",
    "\n",
    "tokenizer = tokenizer_Clotho(vocab_size)\n",
    "model_param_name = 'model_Clotho_Custom_' + str(vocab_size) + \".pt\"\n",
    "\n",
    "TEST_BATCH_SIZE = 5\n",
    "test_dataloader  = dataloader_ClothoDataset(tokenizer, data_dir, TEST_BATCH_SIZE, split = 'evaluation', prefix_size = prefix_size, is_TrainDataset = False, tokenizer_type = tokenizer_type)\n",
    "\n",
    "torch.cuda.empty_cache()\n",
    "\n",
    "USE_CUDA = torch.cuda.is_available() \n",
    "device = torch.device('cuda:0' if USE_CUDA else 'cpu')\n",
    "\n",
    "model = get_ClipCap_AAC(tokenizer, \n",
    "                        vocab_size = vocab_size, Dataset = 'Clotho',\n",
    "                        prefix_size_dict = prefix_size_dict, transformer_num_layers = transformer_num_layers, \n",
    "                        encoder_freeze = False, decoder_freeze = True,\n",
    "                        pretrain_fromAudioCaps = False, device = device)"
   ]
  },
  {
   "cell_type": "code",
   "execution_count": 2,
   "id": "8551bf48",
   "metadata": {},
   "outputs": [
    {
     "data": {
      "text/plain": [
       "<All keys matched successfully>"
      ]
     },
     "execution_count": 2,
     "metadata": {},
     "output_type": "execute_result"
    }
   ],
   "source": [
    "model_path = './Trained_model_params/' + model_param_name\n",
    "model.load_state_dict(torch.load(model_path))\n"
   ]
  },
  {
   "cell_type": "code",
   "execution_count": 3,
   "id": "e223ff35",
   "metadata": {},
   "outputs": [
    {
     "name": "stderr",
     "output_type": "stream",
     "text": [
      "Eval...: 100%|██████████████████████████████| 1045/1045 [03:00<00:00,  5.78it/s]\n"
     ]
    },
    {
     "name": "stdout",
     "output_type": "stream",
     "text": [
      "loading annotations into memory...\n",
      "0:00:00.006887\n",
      "creating index...\n",
      "index created!\n",
      "Loading and preparing results...     \n",
      "DONE (t=0.00s)\n",
      "creating index...\n",
      "index created!\n"
     ]
    },
    {
     "name": "stderr",
     "output_type": "stream",
     "text": [
      "PTBTokenizer tokenized 65471 tokens at 457904.82 tokens per second.\n",
      "PTBTokenizer tokenized 10181 tokens at 127658.42 tokens per second.\n"
     ]
    },
    {
     "name": "stdout",
     "output_type": "stream",
     "text": [
      "{'testlen': 9137, 'reflen': 9932, 'guess': [9137, 8092, 7047, 6002], 'correct': [5375, 2116, 857, 287]}\n",
      "ratio: 0.9199556987514176\n"
     ]
    },
    {
     "name": "stderr",
     "output_type": "stream",
     "text": [
      "Parsing reference captions\n",
      "Parsing test captions\n"
     ]
    },
    {
     "name": "stdout",
     "output_type": "stream",
     "text": [
      "SPICE evaluation took: 1.953 s\n",
      "total result\n",
      "+---------+----------+\n",
      "| Type    | Value    |\n",
      "+---------+----------+\n",
      "| BLEU_1  | 0.539247 |\n",
      "| BLEU_2  | 0.359526 |\n",
      "| BLEU_3  | 0.243342 |\n",
      "| BLEU_4  | 0.158530 |\n",
      "| METEOR  | 0.160432 |\n",
      "| ROUGE_l | 0.372772 |\n",
      "| CIDEr   | 0.359995 |\n",
      "| SPICE   | 0.108029 |\n",
      "| SPIDEr  | 0.234012 |\n",
      "+---------+----------+\n"
     ]
    }
   ],
   "source": [
    "eval_model(model, test_dataloader, 31, 'test', True)"
   ]
  },
  {
   "cell_type": "code",
   "execution_count": null,
   "id": "b57f0b05",
   "metadata": {},
   "outputs": [],
   "source": []
  }
 ],
 "metadata": {
  "kernelspec": {
   "display_name": "minkyu_env",
   "language": "python",
   "name": "minkyu_env"
  },
  "language_info": {
   "codemirror_mode": {
    "name": "ipython",
    "version": 3
   },
   "file_extension": ".py",
   "mimetype": "text/x-python",
   "name": "python",
   "nbconvert_exporter": "python",
   "pygments_lexer": "ipython3",
   "version": "3.8.12"
  }
 },
 "nbformat": 4,
 "nbformat_minor": 5
}
