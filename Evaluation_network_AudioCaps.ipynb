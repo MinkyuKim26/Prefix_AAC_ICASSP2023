{
 "cells": [
  {
   "cell_type": "code",
   "execution_count": 1,
   "id": "61264c48",
   "metadata": {},
   "outputs": [
    {
     "name": "stderr",
     "output_type": "stream",
     "text": [
      "get dataset...: 100%|███████████████████████| 960/960 [00:00<00:00, 1432.98it/s]\n",
      "/home/cuai5th/anaconda3/envs/minkyu_env/lib/python3.8/site-packages/torchlibrosa/stft.py:193: FutureWarning: Pass size=512 as keyword args. From version 0.10 passing these as positional arguments will result in an error\n",
      "  fft_window = librosa.util.pad_center(fft_window, n_fft)\n",
      "/home/cuai5th/anaconda3/envs/minkyu_env/lib/python3.8/site-packages/librosa/util/decorators.py:88: UserWarning: Empty filters detected in mel frequency basis. Some channels will produce empty responses. Try increasing your sampling rate (and fmax) or reducing n_mels.\n",
      "  return f(*args, **kwargs)\n"
     ]
    },
    {
     "name": "stdout",
     "output_type": "stream",
     "text": [
      "audio feature's mapping network : num_head = 8 num_layers = 4\n",
      "semantic feature ver's mapping network : num_head = 8 num_layers = 4\n",
      "GPT2 freezing\n"
     ]
    }
   ],
   "source": [
    "from typing import List, Tuple\n",
    "import torch\n",
    "import copy\n",
    "import os\n",
    "import sys\n",
    "\n",
    "# custom\n",
    "from AudioCaps.AudioCaps_Dataset import * # 데이터셋\n",
    "from transformers import GPT2Tokenizer\n",
    "from ClipCap_forAAC.CLIPCAP_forAAC import * # network\n",
    "from Train import *\n",
    "import warnings\n",
    "warnings.filterwarnings(\"ignore\", category=DeprecationWarning) \n",
    "\n",
    "data_dir = './AudioCaps'\n",
    "\n",
    "# PANNs를 써먹기 위해 prefix_size를 수정\n",
    "audio_prefix_size = 15\n",
    "semantic_prefix_size = 11 \n",
    "prefix_size = audio_prefix_size + semantic_prefix_size\n",
    "\n",
    "transformer_num_layers = {\"audio_num_layers\" : 4, \"semantic_num_layers\" : 4}\n",
    "prefix_size_dict = {\"audio_prefix_size\" : audio_prefix_size, \"semantic_prefix_size\" : semantic_prefix_size}\n",
    "\n",
    "\n",
    "# vocab_size===============\n",
    "# Custom Tokeniezr1 : 7911\n",
    "# Custom Tokeniezr2 : 5084\n",
    "# ACT Tokeniezr : 5069\n",
    "# Clotho Tokeniezr : 4992\n",
    "# GPT2 Tokenizer : None\n",
    "# vocab_size===============\n",
    "\n",
    "vocab_size = 7911\n",
    "tokenizer_type = None\n",
    "\n",
    "if vocab_size != None :\n",
    "    tokenizer = tokenizer_AudioCaps(vocab_size)\n",
    "    tokenizer_type = 'Custom'\n",
    "    model_param_name = 'model_AudioCaps_Custom_' + str(vocab_size) + \".pt\"\n",
    "else :\n",
    "    tokenizer = GPT2Tokenizer.from_pretrained(\"gpt2\")\n",
    "    tokenizer_type = 'GPT2'\n",
    "    model_param_name = 'model_AudioCaps_GPT2_header_freezing.pt'\n",
    "\n",
    "TEST_BATCH_SIZE = 5\n",
    "test_dataloader  = dataloader_AudioCapsDataset(tokenizer, data_dir, TEST_BATCH_SIZE, split = 'test', prefix_size = prefix_size, is_TrainDataset = False, tokenizer_type = tokenizer_type)\n",
    "\n",
    "torch.cuda.empty_cache()\n",
    "\n",
    "USE_CUDA = torch.cuda.is_available() \n",
    "device = torch.device('cuda:0' if USE_CUDA else 'cpu')\n",
    "\n",
    "model = get_ClipCap_AAC(tokenizer, \n",
    "                        vocab_size = vocab_size, Dataset = 'AudioCaps',\n",
    "                        prefix_size_dict = prefix_size_dict, transformer_num_layers = transformer_num_layers, \n",
    "                        encoder_freeze = False, decoder_freeze = True,\n",
    "                        pretrain_fromAudioCaps = False, device = device)"
   ]
  },
  {
   "cell_type": "code",
   "execution_count": 2,
   "id": "8551bf48",
   "metadata": {},
   "outputs": [
    {
     "data": {
      "text/plain": [
       "<All keys matched successfully>"
      ]
     },
     "execution_count": 2,
     "metadata": {},
     "output_type": "execute_result"
    }
   ],
   "source": [
    "model_path = './Trained_model_params/' + model_param_name\n",
    "model.load_state_dict(torch.load(model_path))"
   ]
  },
  {
   "cell_type": "code",
   "execution_count": 3,
   "id": "e223ff35",
   "metadata": {},
   "outputs": [
    {
     "name": "stderr",
     "output_type": "stream",
     "text": [
      "Eval...: 100%|████████████████████████████████| 957/957 [02:48<00:00,  5.69it/s]\n"
     ]
    },
    {
     "name": "stdout",
     "output_type": "stream",
     "text": [
      "loading annotations into memory...\n",
      "0:00:00.006413\n",
      "creating index...\n",
      "index created!\n",
      "Loading and preparing results...     \n",
      "DONE (t=0.00s)\n",
      "creating index...\n",
      "index created!\n"
     ]
    },
    {
     "name": "stderr",
     "output_type": "stream",
     "text": [
      "PTBTokenizer tokenized 54743 tokens at 340190.75 tokens per second.\n",
      "PTBTokenizer tokenized 8326 tokens at 105645.60 tokens per second.\n"
     ]
    },
    {
     "name": "stdout",
     "output_type": "stream",
     "text": [
      "{'testlen': 7286, 'reflen': 7249, 'guess': [7286, 6329, 5372, 4415], 'correct': [5195, 2703, 1317, 542]}\n",
      "ratio: 1.00510415229673\n"
     ]
    },
    {
     "name": "stderr",
     "output_type": "stream",
     "text": [
      "Parsing reference captions\n",
      "Parsing test captions\n"
     ]
    },
    {
     "name": "stdout",
     "output_type": "stream",
     "text": [
      "SPICE evaluation took: 1.937 s\n",
      "total result\n",
      "+---------+----------+\n",
      "| Type    | Value    |\n",
      "+---------+----------+\n",
      "| BLEU_1  | 0.713011 |\n",
      "| BLEU_2  | 0.551828 |\n",
      "| BLEU_3  | 0.421068 |\n",
      "| BLEU_4  | 0.309408 |\n",
      "| METEOR  | 0.239753 |\n",
      "| ROUGE_l | 0.503261 |\n",
      "| CIDEr   | 0.733177 |\n",
      "| SPICE   | 0.176977 |\n",
      "| SPIDEr  | 0.455077 |\n",
      "+---------+----------+\n"
     ]
    }
   ],
   "source": [
    "eval_model(model, test_dataloader, 31, 'test', True)"
   ]
  }
 ],
 "metadata": {
  "kernelspec": {
   "display_name": "minkyu_env",
   "language": "python",
   "name": "minkyu_env"
  },
  "language_info": {
   "codemirror_mode": {
    "name": "ipython",
    "version": 3
   },
   "file_extension": ".py",
   "mimetype": "text/x-python",
   "name": "python",
   "nbconvert_exporter": "python",
   "pygments_lexer": "ipython3",
   "version": "3.8.12"
  }
 },
 "nbformat": 4,
 "nbformat_minor": 5
}
