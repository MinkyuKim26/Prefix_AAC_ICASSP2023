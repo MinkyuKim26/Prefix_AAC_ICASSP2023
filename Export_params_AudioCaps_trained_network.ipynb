{
 "cells": [
  {
   "cell_type": "code",
   "execution_count": 1,
   "id": "a2ac65d7",
   "metadata": {},
   "outputs": [
    {
     "name": "stderr",
     "output_type": "stream",
     "text": [
      "/home/cuai5th/anaconda3/envs/pytorch1.8_p38/lib/python3.8/site-packages/torchlibrosa/stft.py:193: FutureWarning: Pass size=512 as keyword args. From version 0.10 passing these as positional arguments will result in an error\n",
      "  fft_window = librosa.util.pad_center(fft_window, n_fft)\n",
      "/home/cuai5th/anaconda3/envs/pytorch1.8_p38/lib/python3.8/site-packages/librosa/util/decorators.py:88: UserWarning: Empty filters detected in mel frequency basis. Some channels will produce empty responses. Try increasing your sampling rate (and fmax) or reducing n_mels.\n",
      "  return f(*args, **kwargs)\n"
     ]
    },
    {
     "name": "stdout",
     "output_type": "stream",
     "text": [
      "audio feature's mapping network : num_head = 8 num_layers = 4\n",
      "semantic feature ver1's mapping network : num_head = 8 num_layers = 4\n",
      "GPT2 freezing\n"
     ]
    }
   ],
   "source": [
    "import sys\n",
    "import torch\n",
    "# custom\n",
    "from AudioCaps.AudioCaps_Dataset import * # 데이터셋\n",
    "from transformers import GPT2Tokenizer\n",
    "from ClipCap_forAAC.CLIPCAP_forAAC import * # network\n",
    "from Train import *\n",
    "import warnings\n",
    "warnings.filterwarnings(\"ignore\", category=DeprecationWarning) \n",
    "\n",
    "mapping_network_ver = 1\n",
    "# PANNs를 써먹기 위해 prefix_size를 수정\n",
    "audio_prefix_size = 15\n",
    "semantic_prefix_size = 11 # 기존의 Semantic mapping network를 사용시\n",
    "# semantic_prefix_size = 10 # 새로운 Semantic mapping network를 사용시\n",
    "prefix_size = audio_prefix_size + semantic_prefix_size\n",
    "transformer_num_layers = {\"audio_num_layers\" : 4 , \"semantic_num_layers\" : 4}\n",
    "prefix_size_dict = {\"audio_prefix_size\" : audio_prefix_size, \"semantic_prefix_size\" : semantic_prefix_size}\n",
    "\n",
    "USE_CUDA = torch.cuda.is_available() \n",
    "device = torch.device('cuda:0' if USE_CUDA else 'cpu')\n",
    "\n",
    "vocab_size = None\n",
    "tokenizer_type = None\n",
    "\n",
    "if vocab_size == None :\n",
    "    tokenizer = GPT2Tokenizer.from_pretrained(\"gpt2\")\n",
    "    tokenizer_type = 'GPT2'\n",
    "else :\n",
    "    tokenizer = tokenizer_AudioCaps(vocab_size)\n",
    "    tokenizer_type = 'Custom'\n",
    "\n",
    "model = get_ClipCap_AAC(tokenizer, mapping_network_ver = mapping_network_ver, \n",
    "                        vocab_size = vocab_size, Dataset = 'AudioCaps',\n",
    "                        prefix_size_dict = prefix_size_dict, transformer_num_layers = transformer_num_layers, \n",
    "                        encoder_freeze = False, decoder_freeze = True,\n",
    "                        pretrain_fromAudioCaps = False, device = device)"
   ]
  },
  {
   "cell_type": "code",
   "execution_count": 2,
   "id": "933195ea",
   "metadata": {},
   "outputs": [],
   "source": [
    "model_name = 'model_AudioCaps_' + tokenizer_type\n",
    "\n",
    "if tokenizer_type == 'GPT2' :\n",
    "    model_name += '.pt'\n",
    "else :\n",
    "    added_str = '_' + str(vocab_size) + '.pt'\n",
    "    model_name += added_str\n",
    "\n",
    "model.load_state_dict(torch.load(\"./Trained_model_params/\" + model_name))\n",
    "\n",
    "# save_folder_path = './ClipCap_forAAC/pre_trained_params_from_audiocaps/' + str(vocab_size) + '/'\n",
    "# common_word = str(vocab_size) + '_in_Audiocaps.pt'\n",
    "\n",
    "save_folder_path = './ClipCap_forAAC/pre_trained_params_from_audiocaps/GPT2/'\n",
    "common_word = 'GPT2_in_Audiocaps.pt'\n",
    "\n",
    "torch.save(model.audio_clip_project.state_dict(), save_folder_path + 'audio_clip_project_' + common_word)\n",
    "torch.save(model.semantic_clip_project.state_dict(), save_folder_path + 'semantic_clip_project_' + common_word)\n",
    "torch.save(model.audio_encoder.state_dict(), save_folder_path + 'audio_encoder_' + common_word)"
   ]
  }
 ],
 "metadata": {
  "kernelspec": {
   "display_name": "pytorch1.8_p38",
   "language": "python",
   "name": "pytorch1.8_p38"
  },
  "language_info": {
   "codemirror_mode": {
    "name": "ipython",
    "version": 3
   },
   "file_extension": ".py",
   "mimetype": "text/x-python",
   "name": "python",
   "nbconvert_exporter": "python",
   "pygments_lexer": "ipython3",
   "version": "3.8.12"
  }
 },
 "nbformat": 4,
 "nbformat_minor": 5
}
