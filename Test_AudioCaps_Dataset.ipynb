{
 "cells": [
  {
   "cell_type": "code",
   "execution_count": 1,
   "id": "e4264fa5",
   "metadata": {},
   "outputs": [
    {
     "name": "stderr",
     "output_type": "stream",
     "text": [
      "get dataset...: 100%|███████████████████████| 960/960 [00:00<00:00, 1418.26it/s]\n"
     ]
    }
   ],
   "source": [
    "import sys\n",
    "import torch\n",
    "# custom\n",
    "from AudioCaps.AudioCaps_Dataset import * # 데이터셋\n",
    "from transformers import GPT2Tokenizer\n",
    "from ClipCap_forAAC.CLIPCAP_forAAC import * # network\n",
    "from Train import *\n",
    "import warnings\n",
    "warnings.filterwarnings(\"ignore\", category=DeprecationWarning) \n",
    "    \n",
    "data_dir = './AudioCaps'\n",
    "\n",
    "# PANNs를 써먹기 위해 prefix_size를 수정\n",
    "audio_prefix_size = 15\n",
    "semantic_prefix_size = 11\n",
    "prefix_size = audio_prefix_size + semantic_prefix_size\n",
    "\n",
    "# argv의 개수가 2 + 1개다 : custom vocab을 사용했다\n",
    "\n",
    "vocab_size = 4992\n",
    "\n",
    "tokenizer_type = 'Custom'\n",
    "tokenizer = tokenizer_AudioCaps(vocab_size)\n",
    "\n",
    "# tokenizer_type = 'GPT2'\n",
    "# tokenizer = GPT2Tokenizer.from_pretrained(\"gpt2\")\n",
    "\n",
    "TEST_BATCH_SIZE = 5\n",
    "test_dataloader  = dataloader_AudioCapsDataset(tokenizer, data_dir, TEST_BATCH_SIZE, split = 'test', prefix_size = prefix_size, is_TrainDataset = False, tokenizer_type = tokenizer_type)"
   ]
  },
  {
   "cell_type": "code",
   "execution_count": 2,
   "id": "c9164548",
   "metadata": {},
   "outputs": [],
   "source": [
    "iter_ = iter(test_dataloader)"
   ]
  },
  {
   "cell_type": "code",
   "execution_count": 3,
   "id": "2bce3e1e",
   "metadata": {},
   "outputs": [],
   "source": [
    "(audio, caption, f_name) = next(iter_)"
   ]
  },
  {
   "cell_type": "code",
   "execution_count": 4,
   "id": "29e7908f",
   "metadata": {},
   "outputs": [
    {
     "data": {
      "text/plain": [
       "tensor([[-0.2114, -0.2241, -0.0415,  ...,  0.1959,  0.2073,  0.2557],\n",
       "        [-0.2114, -0.2241, -0.0415,  ...,  0.1959,  0.2073,  0.2557],\n",
       "        [-0.2114, -0.2241, -0.0415,  ...,  0.1959,  0.2073,  0.2557],\n",
       "        [-0.2114, -0.2241, -0.0415,  ...,  0.1959,  0.2073,  0.2557],\n",
       "        [-0.2114, -0.2241, -0.0415,  ...,  0.1959,  0.2073,  0.2557]])"
      ]
     },
     "execution_count": 4,
     "metadata": {},
     "output_type": "execute_result"
    }
   ],
   "source": [
    "audio"
   ]
  },
  {
   "cell_type": "code",
   "execution_count": 5,
   "id": "2dc888e2",
   "metadata": {},
   "outputs": [
    {
     "data": {
      "text/plain": [
       "('--0w1YA1Hm4.wav',\n",
       " '--0w1YA1Hm4.wav',\n",
       " '--0w1YA1Hm4.wav',\n",
       " '--0w1YA1Hm4.wav',\n",
       " '--0w1YA1Hm4.wav')"
      ]
     },
     "execution_count": 5,
     "metadata": {},
     "output_type": "execute_result"
    }
   ],
   "source": [
    "f_name"
   ]
  },
  {
   "cell_type": "code",
   "execution_count": 6,
   "id": "4e5da5af",
   "metadata": {},
   "outputs": [
    {
     "data": {
      "text/plain": [
       "('a vehicle driving as a man and woman are talking and laughing',\n",
       " 'men speak and laugh with humming of an engine',\n",
       " 'high pitched speaking and laughing',\n",
       " 'humming of an engine with a woman and men speaking',\n",
       " 'people talking with the dull roar of a vehicle on the road')"
      ]
     },
     "execution_count": 6,
     "metadata": {},
     "output_type": "execute_result"
    }
   ],
   "source": [
    "caption"
   ]
  },
  {
   "cell_type": "code",
   "execution_count": null,
   "id": "3a2bf65a",
   "metadata": {},
   "outputs": [],
   "source": []
  }
 ],
 "metadata": {
  "kernelspec": {
   "display_name": "pytorch1.8_p38",
   "language": "python",
   "name": "pytorch1.8_p38"
  },
  "language_info": {
   "codemirror_mode": {
    "name": "ipython",
    "version": 3
   },
   "file_extension": ".py",
   "mimetype": "text/x-python",
   "name": "python",
   "nbconvert_exporter": "python",
   "pygments_lexer": "ipython3",
   "version": "3.8.12"
  }
 },
 "nbformat": 4,
 "nbformat_minor": 5
}
