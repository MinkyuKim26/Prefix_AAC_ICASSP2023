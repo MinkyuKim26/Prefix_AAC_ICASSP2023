{
 "cells": [
  {
   "cell_type": "code",
   "execution_count": 31,
   "metadata": {},
   "outputs": [],
   "source": [
    "import pandas as pd\n",
    "import re\n",
    "import pickle\n",
    "import string"
   ]
  },
  {
   "cell_type": "code",
   "execution_count": 32,
   "metadata": {},
   "outputs": [],
   "source": [
    "Dataset = 'Clotho' # or 'Clotho'"
   ]
  },
  {
   "cell_type": "code",
   "execution_count": 33,
   "metadata": {},
   "outputs": [],
   "source": [
    "def repair_caption(caption) :\n",
    "    caption = caption.replace(',', ' , ')\n",
    "    caption = re.sub(' +', ' ', caption)\n",
    "    caption = caption.replace(' ,', ',')\n",
    "\n",
    "    return caption"
   ]
  },
  {
   "cell_type": "code",
   "execution_count": 34,
   "metadata": {},
   "outputs": [],
   "source": [
    "def get_word_dictionary(caption_list) :\n",
    "    word_dictionary = {}\n",
    "\n",
    "    for caption in caption_list :\n",
    "\n",
    "        caption = caption.lower()\n",
    "        \n",
    "        # 쉼표를 '안녕,하세요'와 같이 쓰는 사례가 많더라\n",
    "        # 얘들을 다 교정해준다 \n",
    "        # 교정========================================\n",
    "        caption = caption.replace(',', ' , ') \n",
    "        # 공백 줄이기\n",
    "        caption = re.sub(' +', ' ', caption)\n",
    "        caption = caption.replace(' ,', ',')\n",
    "        # 교정========================================\n",
    "\n",
    "        # For ACT Tokenizer\n",
    "        # caption = re.sub(r'\\s([,.!?;:\"](?:\\s|$))', r'\\1', caption).replace('  ', ' ')\n",
    "        # caption = re.sub('[,.!?;:\\\"]', ' ', caption).replace('  ', ' ')\n",
    "\n",
    "        # For Clotho tokenizer\n",
    "        # caption = caption.translate(str.maketrans('', '', string.punctuation))\n",
    "\n",
    "        # For Custom Tokenizer1\n",
    "        # caption = re.sub(r'[.]', '', caption)\n",
    "        # caption += '.'\n",
    "\n",
    "        # For Custom Tokenizer2\n",
    "        caption = re.sub(r'[.]', '', caption)\n",
    "\n",
    "        word_list = caption.strip().split(' ')\n",
    "\n",
    "        for word in word_list : \n",
    "            \n",
    "            # Custom Tokenizer2의 경우 사용================================\n",
    "            if word in word_dictionary: \n",
    "                if word[-1] == ',' :\n",
    "                    temp_word_wo_rest = word[:-1] # 쉼표 있으면 쉼표 제거\n",
    "                    word_dictionary[temp_word_wo_rest] += 1\n",
    "                    word_dictionary[','] += 1 # 쉼표를 따로 추가\n",
    "                else :\n",
    "                    word_dictionary[word] += 1\n",
    "            else : \n",
    "                if word[-1] == ',' :\n",
    "                    temp_word_wo_rest = word[:-1] # 쉼표 있으면 쉼표 제거\n",
    "                    word_dictionary[temp_word_wo_rest] = 1\n",
    "                    word_dictionary[','] = 1\n",
    "                else :\n",
    "                    word_dictionary[word] = 1\n",
    "            # Custom Tokenizer2의 경우 사용================================\n",
    "\n",
    "            # if word in word_dictionary: \n",
    "            #     word_dictionary[word] += 1\n",
    "            # else : \n",
    "            #     word_dictionary[word] = 1\n",
    "                \n",
    "    return sorted(word_dictionary.items(), key = lambda item: item[1], reverse = True)"
   ]
  },
  {
   "cell_type": "code",
   "execution_count": 35,
   "metadata": {},
   "outputs": [],
   "source": [
    "caption_list_audiocaps = []\n",
    "\n",
    "train_csv = pd.read_csv('train.csv')\n",
    "\n",
    "captions = train_csv['caption'].to_list()\n",
    "for caption in captions:\n",
    "\n",
    "    edited_caption = repair_caption(caption)\n",
    "\n",
    "    # if edited_caption != caption :\n",
    "    #     print(\"before repair :\", caption)\n",
    "    #     print(\"after repair :\", edited_caption)\n",
    "    #     print()\n",
    "\n",
    "    caption_list_audiocaps.append(caption)\n"
   ]
  },
  {
   "cell_type": "code",
   "execution_count": 36,
   "metadata": {},
   "outputs": [],
   "source": [
    "word_dictionary_sorted = get_word_dictionary(caption_list_audiocaps) \n",
    "\n",
    "word_Dict = []\n",
    "\n",
    "# 단어만 담기\n",
    "# 그러면 등장 빈도수가 높은 단어부터 나열되는 딕셔너리가 완성됨\n",
    "for key, value in word_dictionary_sorted :\n",
    "    word_Dict.append(key)"
   ]
  },
  {
   "cell_type": "code",
   "execution_count": 37,
   "metadata": {},
   "outputs": [],
   "source": [
    "# GPT-2는 vocab의 맨 첫 idx의 값을 \"!\"로 했다. 나도 그렇게 해야겠다.\n",
    "# 그리고 GPT-2는 문장의 마무리라 할 수 있는 마침표('.')의 idx를 13으로 했다. 나는 문장의 마무리를 <eos>로 해야겠다. \n",
    "word_Dict.insert(0, '!')\n",
    "word_Dict.insert(13, '<eos>')\n",
    "word_Dict.append('<unk>')"
   ]
  },
  {
   "cell_type": "code",
   "execution_count": 38,
   "metadata": {},
   "outputs": [
    {
     "name": "stdout",
     "output_type": "stream",
     "text": [
      "1440 words not in audiocaps vocab\n"
     ]
    }
   ],
   "source": [
    "# Clotho Dataset에만 있는 word들을 추가해줌\n",
    "caption_list_clotho = []\n",
    "if Dataset == 'Clotho' :\n",
    "    train_csv = pd.read_csv('clotho_captions_development.csv')\n",
    "\n",
    "    for i in range(5) :\n",
    "        col_str = 'caption_' + str(i + 1)\n",
    "    \n",
    "        captions = train_csv[col_str].to_list()\n",
    "        for caption in captions:\n",
    "\n",
    "            edited_caption = repair_caption(caption)\n",
    "\n",
    "            # if edited_caption != caption :\n",
    "            #     print(\"before repair :\", caption)\n",
    "            #     print(\"after repair :\", edited_caption)\n",
    "            #     print()\n",
    "\n",
    "            caption_list_clotho.append(caption)\n",
    "\n",
    "    word_dictionary_sorted = get_word_dictionary(caption_list_clotho)\n",
    "    # 단어만 담기\n",
    "    # 그러면 등장 빈도수가 높은 단어부터 나열되는 딕셔너리가 완성됨\n",
    "    not_in_count = 0\n",
    "    for key, value in word_dictionary_sorted :\n",
    "\n",
    "        if key not in word_Dict :\n",
    "            word_Dict.append(key)\n",
    "            not_in_count +=1\n",
    "    \n",
    "    print(str(not_in_count), \"words not in audiocaps vocab\")"
   ]
  },
  {
   "cell_type": "code",
   "execution_count": 39,
   "metadata": {},
   "outputs": [],
   "source": [
    "file_name = None\n",
    "if Dataset == 'AudioCaps' :\n",
    "    file_name = 'AudioCaps_vocabulary_'\n",
    "elif Dataset == 'Clotho' :\n",
    "    file_name = 'Clotho_vocabulary_'\n",
    "\n",
    "file_name += (str(len(word_Dict)) + '.pickle')\n",
    "\n",
    "with open(file_name, 'wb') as f:\n",
    "    pickle.dump(word_Dict, f, pickle.HIGHEST_PROTOCOL)"
   ]
  },
  {
   "cell_type": "code",
   "execution_count": 40,
   "metadata": {},
   "outputs": [
    {
     "data": {
      "text/plain": [
       "6524"
      ]
     },
     "execution_count": 40,
     "metadata": {},
     "output_type": "execute_result"
    }
   ],
   "source": [
    "len(word_Dict)"
   ]
  }
 ],
 "metadata": {
  "interpreter": {
   "hash": "aac1938eb6913997aabd086dca6066ca74adbc6b4a9aafd1e6821241d3ac0498"
  },
  "kernelspec": {
   "display_name": "Python 3.8.8 ('base')",
   "language": "python",
   "name": "python3"
  },
  "language_info": {
   "codemirror_mode": {
    "name": "ipython",
    "version": 3
   },
   "file_extension": ".py",
   "mimetype": "text/x-python",
   "name": "python",
   "nbconvert_exporter": "python",
   "pygments_lexer": "ipython3",
   "version": "3.8.8"
  },
  "orig_nbformat": 4
 },
 "nbformat": 4,
 "nbformat_minor": 2
}
