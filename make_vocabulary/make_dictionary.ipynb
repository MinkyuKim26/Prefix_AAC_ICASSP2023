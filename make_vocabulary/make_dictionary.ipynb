{
 "cells": [
  {
   "cell_type": "code",
   "execution_count": 1,
   "metadata": {},
   "outputs": [],
   "source": [
    "import pandas as pd\n",
    "import re\n",
    "import pickle\n",
    "import string"
   ]
  },
  {
   "cell_type": "code",
   "execution_count": 2,
   "metadata": {},
   "outputs": [],
   "source": [
    "Dataset = 'AudioCaps' # or 'Clotho'"
   ]
  },
  {
   "cell_type": "code",
   "execution_count": 3,
   "metadata": {},
   "outputs": [],
   "source": [
    "def repair_caption(caption) :\n",
    "    caption = caption.replace(',', ' , ')\n",
    "    caption = re.sub(' +', ' ', caption)\n",
    "    caption = caption.replace(' ,', ',')\n",
    "\n",
    "    return caption"
   ]
  },
  {
   "cell_type": "code",
   "execution_count": 4,
   "metadata": {},
   "outputs": [
    {
     "name": "stdout",
     "output_type": "stream",
     "text": [
      "before repair : Wind blowing loudly,like sighing sound\n",
      "after repair : Wind blowing loudly, like sighing sound\n",
      "\n",
      "before repair : Wind is blowing,a man speaks noise of a person walk-in water\n",
      "after repair : Wind is blowing, a man speaks noise of a person walk-in water\n",
      "\n",
      "before repair : Horses galloping,a woman speaks\n",
      "after repair : Horses galloping, a woman speaks\n",
      "\n",
      "before repair : A motorboat is buzzing by followed by a woman,man, and child speaking\n",
      "after repair : A motorboat is buzzing by followed by a woman, man, and child speaking\n",
      "\n",
      "before repair : Kids speech,pots clattering\n",
      "after repair : Kids speech, pots clattering\n",
      "\n",
      "before repair : Water and wind,knocking heard\n",
      "after repair : Water and wind, knocking heard\n",
      "\n",
      "before repair : Waves moving,wind blowing and a man speaking\n",
      "after repair : Waves moving, wind blowing and a man speaking\n",
      "\n",
      "before repair : Door creek,human speech, door bang\n",
      "after repair : Door creek, human speech, door bang\n",
      "\n",
      "before repair : Water flowing down fast in a river,stream\n",
      "after repair : Water flowing down fast in a river, stream\n",
      "\n",
      "before repair : An young female speaks,and electronic dial tone and electronic beeps and clicks occur\n",
      "after repair : An young female speaks, and electronic dial tone and electronic beeps and clicks occur\n",
      "\n"
     ]
    }
   ],
   "source": [
    "train_csv = None\n",
    "caption_list = []\n",
    "\n",
    "if Dataset == 'AudioCaps' :\n",
    "    train_csv = pd.read_csv('train.csv')\n",
    "\n",
    "    captions = train_csv['caption'].to_list()\n",
    "    for caption in captions:\n",
    "\n",
    "        edited_caption = repair_caption(caption)\n",
    "\n",
    "        if edited_caption != caption :\n",
    "            print(\"before repair :\", caption)\n",
    "            print(\"after repair :\", edited_caption)\n",
    "            print()\n",
    "\n",
    "        caption_list.append(caption)\n",
    "\n",
    "elif Dataset == 'Clotho' :\n",
    "    train_csv = pd.read_csv('clotho_captions_development.csv')\n",
    "\n",
    "    for i in range(5) :\n",
    "        col_str = 'caption_' + str(i + 1)\n",
    "    \n",
    "        captions = train_csv[col_str].to_list()\n",
    "        for caption in captions:\n",
    "\n",
    "            edited_caption = repair_caption(caption)\n",
    "\n",
    "            if edited_caption != caption :\n",
    "                print(\"before repair :\", caption)\n",
    "                print(\"after repair :\", edited_caption)\n",
    "                print()\n",
    "\n",
    "            caption_list.append(caption)\n",
    "\n",
    "\n",
    "    \n"
   ]
  },
  {
   "cell_type": "code",
   "execution_count": 5,
   "metadata": {},
   "outputs": [],
   "source": [
    "word_dictionary = {}\n",
    "\n",
    "for caption in caption_list :\n",
    "\n",
    "    caption = caption.lower()\n",
    "    \n",
    "    # 쉼표를 '안녕,하세요'와 같이 쓰는 사례가 많더라\n",
    "    # 얘들을 다 교정해준다 \n",
    "    # 교정========================================\n",
    "    caption = caption.replace(',', ' , ') \n",
    "    # 공백 줄이기\n",
    "    caption = re.sub(' +', ' ', caption)\n",
    "    caption = caption.replace(' ,', ',')\n",
    "    # 교정========================================\n",
    "\n",
    "    # For ACT Tokenizer\n",
    "    # caption = re.sub(r'\\s([,.!?;:\"](?:\\s|$))', r'\\1', caption).replace('  ', ' ')\n",
    "    # caption = re.sub('[,.!?;:\\\"]', ' ', caption).replace('  ', ' ')\n",
    "\n",
    "    # For Clotho tokenizer\n",
    "    caption = caption.translate(str.maketrans('', '', string.punctuation))\n",
    "\n",
    "    # For Custom Tokenizer1\n",
    "    # caption = re.sub(r'[.]', '', caption)\n",
    "    # caption += '.'\n",
    "\n",
    "    # For Custom Tokenizer2\n",
    "    # caption = re.sub(r'[.]', '', caption)\n",
    "\n",
    "    word_list = caption.strip().split(' ')\n",
    "\n",
    "    for word in word_list : \n",
    "        \n",
    "        # Custom Tokenizer2의 경우 사용================================\n",
    "        # if word in word_dictionary: \n",
    "        #     if word[-1] == ',' :\n",
    "        #         temp_word_wo_rest = word[:-1] # 쉼표 있으면 쉼표 제거\n",
    "        #         word_dictionary[temp_word_wo_rest] += 1\n",
    "        #         word_dictionary[','] += 1 # 쉼표를 따로 추가\n",
    "        #     else :\n",
    "        #         word_dictionary[word] += 1\n",
    "        # else : \n",
    "        #     if word[-1] == ',' :\n",
    "        #         temp_word_wo_rest = word[:-1] # 쉼표 있으면 쉼표 제거\n",
    "        #         word_dictionary[temp_word_wo_rest] = 1\n",
    "        #         word_dictionary[','] = 1\n",
    "        #     else :\n",
    "        #         word_dictionary[word] = 1\n",
    "        # Custom Tokenizer2의 경우 사용================================\n",
    "\n",
    "        if word in word_dictionary: \n",
    "            word_dictionary[word] += 1\n",
    "        else : \n",
    "            word_dictionary[word] = 1"
   ]
  },
  {
   "cell_type": "code",
   "execution_count": 6,
   "metadata": {},
   "outputs": [],
   "source": [
    "word_dictionary_sorted = sorted(word_dictionary.items(), key = lambda item: item[1], reverse = True)\n",
    "\n",
    "word_Dict = []\n",
    "\n",
    "# 단어만 담기\n",
    "# 그러면 등장 빈도수가 높은 단어부터 나열되는 딕셔너리가 완성됨\n",
    "for key, value in word_dictionary_sorted :\n",
    "    word_Dict.append(key)"
   ]
  },
  {
   "cell_type": "code",
   "execution_count": 7,
   "metadata": {},
   "outputs": [],
   "source": [
    "# GPT-2는 vocab의 맨 첫 idx의 값을 \"!\"로 했다. 나도 그렇게 해야겠다.\n",
    "# 그리고 GPT-2는 문장의 마무리라 할 수 있는 마침표('.')의 idx를 13으로 했다. 나는 문장의 마무리를 <eos>로 해야겠다. \n",
    "word_Dict.insert(0, '!')\n",
    "word_Dict.insert(13, '<eos>')\n",
    "word_Dict.append('<unk>')"
   ]
  },
  {
   "cell_type": "code",
   "execution_count": 8,
   "metadata": {},
   "outputs": [],
   "source": [
    "file_name = None\n",
    "if Dataset == 'AudioCaps' :\n",
    "    file_name = 'AudioCaps_vocabulary_'\n",
    "elif Dataset == 'Clotho' :\n",
    "    file_name = 'Clotho_vocabulary_'\n",
    "\n",
    "file_name += (str(len(word_Dict)) + '.pickle')\n",
    "\n",
    "with open(file_name, 'wb') as f:\n",
    "    pickle.dump(word_Dict, f, pickle.HIGHEST_PROTOCOL)"
   ]
  },
  {
   "cell_type": "code",
   "execution_count": null,
   "metadata": {},
   "outputs": [],
   "source": []
  }
 ],
 "metadata": {
  "interpreter": {
   "hash": "aac1938eb6913997aabd086dca6066ca74adbc6b4a9aafd1e6821241d3ac0498"
  },
  "kernelspec": {
   "display_name": "Python 3.8.8 ('base')",
   "language": "python",
   "name": "python3"
  },
  "language_info": {
   "codemirror_mode": {
    "name": "ipython",
    "version": 3
   },
   "file_extension": ".py",
   "mimetype": "text/x-python",
   "name": "python",
   "nbconvert_exporter": "python",
   "pygments_lexer": "ipython3",
   "version": "3.8.8"
  },
  "orig_nbformat": 4
 },
 "nbformat": 4,
 "nbformat_minor": 2
}
