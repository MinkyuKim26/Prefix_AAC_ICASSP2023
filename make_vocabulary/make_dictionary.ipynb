{
 "cells": [
  {
   "cell_type": "code",
   "execution_count": 1,
   "metadata": {},
   "outputs": [],
   "source": [
    "import pandas as pd\n",
    "import re\n",
    "import pickle\n",
    "import string"
   ]
  },
  {
   "cell_type": "code",
   "execution_count": 2,
   "metadata": {},
   "outputs": [],
   "source": [
    "Dataset = 'AudioCaps' # or 'Clotho'"
   ]
  },
  {
   "cell_type": "code",
   "execution_count": 3,
   "metadata": {},
   "outputs": [],
   "source": [
    "def repair_caption(caption) : \n",
    "                       \n",
    "    caption = caption.lower()    \n",
    "                \n",
    "    caption = caption.replace(',', ' , ') \n",
    "    caption = re.sub(' +', ' ', caption)\n",
    "    caption = caption.replace(' ,', ',')\n",
    "    caption = re.sub(r'[.]', '', caption)\n",
    "\n",
    "    caption = caption.strip()\n",
    "\n",
    "    caption += '.'\n",
    "\n",
    "    return caption"
   ]
  },
  {
   "cell_type": "code",
   "execution_count": 4,
   "metadata": {},
   "outputs": [],
   "source": [
    "train_csv = None\n",
    "caption_list = []\n",
    "\n",
    "if Dataset == 'AudioCaps' :\n",
    "    train_csv = pd.read_csv('train.csv')\n",
    "\n",
    "    captions = train_csv['caption'].to_list()\n",
    "    for caption in captions:\n",
    "\n",
    "        edited_caption = repair_caption(caption)\n",
    "\n",
    "        # if edited_caption != caption :\n",
    "        #     print(\"before repair :\", caption)\n",
    "        #     print(\"after repair :\", edited_caption)\n",
    "        #     print()\n",
    "\n",
    "        caption_list.append(edited_caption)\n",
    "\n",
    "elif Dataset == 'Clotho' :\n",
    "    train_csv = pd.read_csv('clotho_captions_development.csv')\n",
    "\n",
    "    for i in range(5) :\n",
    "        col_str = 'caption_' + str(i + 1)\n",
    "    \n",
    "        captions = train_csv[col_str].to_list()\n",
    "        for caption in captions:\n",
    "\n",
    "            edited_caption = repair_caption(caption)\n",
    "\n",
    "            # if edited_caption != caption :\n",
    "            #     print(\"before repair :\", caption)\n",
    "            #     print(\"after repair :\", edited_caption)\n",
    "            #     print()\n",
    "\n",
    "            caption_list.append(caption)\n",
    "\n",
    "\n",
    "    \n"
   ]
  },
  {
   "cell_type": "code",
   "execution_count": 5,
   "metadata": {},
   "outputs": [
    {
     "data": {
      "text/plain": [
       "'a woman talks nearby as water pours.'"
      ]
     },
     "execution_count": 5,
     "metadata": {},
     "output_type": "execute_result"
    }
   ],
   "source": [
    "caption_list[0]"
   ]
  },
  {
   "cell_type": "code",
   "execution_count": 6,
   "metadata": {},
   "outputs": [],
   "source": [
    "word_dictionary = {}\n",
    "\n",
    "for caption in caption_list :\n",
    "\n",
    "    word_list = caption.strip().split(' ')\n",
    "\n",
    "    for word in word_list : \n",
    "        \n",
    "        if word in word_dictionary: \n",
    "            word_dictionary[word] += 1\n",
    "        else : \n",
    "            word_dictionary[word] = 1"
   ]
  },
  {
   "cell_type": "code",
   "execution_count": 7,
   "metadata": {},
   "outputs": [
    {
     "name": "stdout",
     "output_type": "stream",
     "text": [
      "7908\n"
     ]
    }
   ],
   "source": [
    "word_dictionary_sorted = sorted(word_dictionary.items(), key = lambda item: item[1], reverse = True)\n",
    "\n",
    "word_Dict = []\n",
    "\n",
    "# 단어만 담기\n",
    "# 그러면 등장 빈도수가 높은 단어부터 나열되는 딕셔너리가 완성됨\n",
    "for key, value in word_dictionary_sorted :\n",
    "    word_Dict.append(key)\n",
    "\n",
    "print(len(word_Dict))"
   ]
  },
  {
   "cell_type": "code",
   "execution_count": 8,
   "metadata": {},
   "outputs": [],
   "source": [
    "# # GPT-2는 vocab의 맨 첫 idx의 값을 \"!\"로 했다. 나도 그렇게 해야겠다.\n",
    "# # 그리고 GPT-2는 문장의 마무리라 할 수 있는 마침표('.')의 idx를 13으로 했다. 나는 문장의 마무리를 <eos>로 해야겠다. \n",
    "# word_Dict.insert(0, '!')\n",
    "# word_Dict.insert(13, '<eos>')\n",
    "# word_Dict.append('<unk>')"
   ]
  },
  {
   "cell_type": "code",
   "execution_count": 9,
   "metadata": {},
   "outputs": [],
   "source": [
    "file_name = None\n",
    "if Dataset == 'AudioCaps' :\n",
    "    file_name = 'AudioCaps_vocabulary_'\n",
    "elif Dataset == 'Clotho' :\n",
    "    file_name = 'Clotho_vocabulary_'\n",
    "\n",
    "file_name += (str(len(word_Dict)) + '.pickle')\n",
    "\n",
    "with open(file_name, 'wb') as f:\n",
    "    pickle.dump(word_Dict, f, pickle.HIGHEST_PROTOCOL)"
   ]
  },
  {
   "cell_type": "code",
   "execution_count": 10,
   "metadata": {},
   "outputs": [
    {
     "data": {
      "text/plain": [
       "7908"
      ]
     },
     "execution_count": 10,
     "metadata": {},
     "output_type": "execute_result"
    }
   ],
   "source": [
    "len(word_Dict)"
   ]
  },
  {
   "cell_type": "code",
   "execution_count": 11,
   "metadata": {},
   "outputs": [
    {
     "name": "stdout",
     "output_type": "stream",
     "text": [
      "2729 words not in audiocaps vocab\n",
      "4293 words in audiocaps vocab\n"
     ]
    }
   ],
   "source": [
    "# Clotho Dataset에만 있는 word들을 추가해줌\n",
    "caption_list_clotho = []\n",
    "if Dataset == 'AudioCaps' :\n",
    "    train_csv = pd.read_csv('clotho_captions_development.csv')\n",
    "\n",
    "    for i in range(5) :\n",
    "        col_str = 'caption_' + str(i + 1)\n",
    "    \n",
    "        captions = train_csv[col_str].to_list()\n",
    "        for caption in captions:\n",
    "\n",
    "            edited_caption = repair_caption(caption)\n",
    "            caption_list_clotho.append(edited_caption)\n",
    "\n",
    "    word_dictionary_clotho = {}\n",
    "\n",
    "    for caption in caption_list_clotho :\n",
    "\n",
    "        word_list = caption.strip().split(' ')\n",
    "\n",
    "        for word in word_list : \n",
    "            \n",
    "            if word in word_dictionary_clotho: \n",
    "                word_dictionary_clotho[word] += 1\n",
    "            else : \n",
    "                word_dictionary_clotho[word] = 1\n",
    "\n",
    "    word_dictionary_sorted_clotho = sorted(word_dictionary_clotho.items(), key = lambda item: item[1], reverse = True)\n",
    "\n",
    "    not_in_count = 0\n",
    "    in_count = 0\n",
    "    for key, value in word_dictionary_sorted_clotho :\n",
    "\n",
    "        if key not in word_Dict :\n",
    "            word_Dict.append(key)\n",
    "            not_in_count +=1\n",
    "        else :\n",
    "            in_count +=1\n",
    "    \n",
    "    print(str(not_in_count), \"words not in audiocaps vocab\")\n",
    "    print(str(in_count), \"words in audiocaps vocab\")"
   ]
  },
  {
   "cell_type": "code",
   "execution_count": 12,
   "metadata": {},
   "outputs": [],
   "source": [
    "# GPT-2는 vocab의 맨 첫 idx의 값을 \"!\"로 했다. 나도 그렇게 해야겠다.\n",
    "# 그리고 GPT-2는 문장의 마무리라 할 수 있는 마침표('.')의 idx를 13으로 했다. 나는 문장의 마무리를 <eos>로 해야겠다. \n",
    "word_Dict.insert(0, '!')\n",
    "word_Dict.insert(13, '<eos>')\n",
    "word_Dict.append('<unk>')"
   ]
  },
  {
   "cell_type": "code",
   "execution_count": 13,
   "metadata": {},
   "outputs": [],
   "source": [
    "file_name = 'Clotho_vocabulary_' + (str(len(word_Dict)) + '.pickle')\n",
    "\n",
    "with open(file_name, 'wb') as f:\n",
    "    pickle.dump(word_Dict, f, pickle.HIGHEST_PROTOCOL)"
   ]
  },
  {
   "cell_type": "code",
   "execution_count": null,
   "metadata": {},
   "outputs": [],
   "source": []
  }
 ],
 "metadata": {
  "interpreter": {
   "hash": "aac1938eb6913997aabd086dca6066ca74adbc6b4a9aafd1e6821241d3ac0498"
  },
  "kernelspec": {
   "display_name": "Python 3.8.8 ('base')",
   "language": "python",
   "name": "python3"
  },
  "language_info": {
   "codemirror_mode": {
    "name": "ipython",
    "version": 3
   },
   "file_extension": ".py",
   "mimetype": "text/x-python",
   "name": "python",
   "nbconvert_exporter": "python",
   "pygments_lexer": "ipython3",
   "version": "3.8.8"
  },
  "orig_nbformat": 4
 },
 "nbformat": 4,
 "nbformat_minor": 2
}
