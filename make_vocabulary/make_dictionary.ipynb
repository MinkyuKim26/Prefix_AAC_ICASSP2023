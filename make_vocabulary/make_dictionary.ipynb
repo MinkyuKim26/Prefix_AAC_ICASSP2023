{
 "cells": [
  {
   "cell_type": "markdown",
   "metadata": {},
   "source": [
    "## Jupyter notebook file for making the custom vocabulary"
   ]
  },
  {
   "cell_type": "code",
   "execution_count": 1,
   "metadata": {},
   "outputs": [],
   "source": [
    "import pandas as pd\n",
    "import re\n",
    "import pickle\n",
    "import string"
   ]
  },
  {
   "cell_type": "code",
   "execution_count": 2,
   "metadata": {},
   "outputs": [],
   "source": [
    "Dataset = 'AudioCaps' # or 'Clotho'"
   ]
  },
  {
   "cell_type": "code",
   "execution_count": 3,
   "metadata": {},
   "outputs": [],
   "source": [
    "def repair_caption(caption) : \n",
    "                       \n",
    "    caption = caption.lower()    \n",
    "                \n",
    "    caption = caption.replace(',', ' , ') \n",
    "    caption = re.sub(' +', ' ', caption)\n",
    "    caption = caption.replace(' ,', ',')\n",
    "    caption = re.sub(r'[.]', '', caption)\n",
    "\n",
    "    caption = caption.strip()\n",
    "\n",
    "    caption += '.'\n",
    "\n",
    "    return caption"
   ]
  },
  {
   "cell_type": "code",
   "execution_count": 4,
   "metadata": {},
   "outputs": [],
   "source": [
    "train_csv = None\n",
    "caption_list = []\n",
    "\n",
    "if Dataset == 'AudioCaps' :\n",
    "    train_csv = pd.read_csv('train.csv')\n",
    "\n",
    "    captions = train_csv['caption'].to_list()\n",
    "    for caption in captions:\n",
    "\n",
    "        edited_caption = repair_caption(caption)\n",
    "\n",
    "        # if edited_caption != caption :\n",
    "        #     print(\"before repair :\", caption)\n",
    "        #     print(\"after repair :\", edited_caption)\n",
    "        #     print()\n",
    "\n",
    "        caption_list.append(edited_caption)\n",
    "\n",
    "elif Dataset == 'Clotho' :\n",
    "    train_csv = pd.read_csv('clotho_captions_development.csv')\n",
    "\n",
    "    for i in range(5) :\n",
    "        col_str = 'caption_' + str(i + 1)\n",
    "    \n",
    "        captions = train_csv[col_str].to_list()\n",
    "        for caption in captions:\n",
    "\n",
    "            edited_caption = repair_caption(caption)\n",
    "\n",
    "            caption_list.append(edited_caption)\n",
    "\n",
    "\n",
    "    \n"
   ]
  },
  {
   "cell_type": "code",
   "execution_count": 5,
   "metadata": {},
   "outputs": [
    {
     "data": {
      "text/plain": [
       "'a woman talks nearby as water pours.'"
      ]
     },
     "execution_count": 5,
     "metadata": {},
     "output_type": "execute_result"
    }
   ],
   "source": [
    "caption_list[0]"
   ]
  },
  {
   "cell_type": "code",
   "execution_count": 6,
   "metadata": {},
   "outputs": [],
   "source": [
    "word_dictionary = {}\n",
    "\n",
    "for caption in caption_list :\n",
    "\n",
    "    word_list = caption.strip().split(' ')\n",
    "\n",
    "    for word in word_list : \n",
    "        \n",
    "        if word in word_dictionary: \n",
    "            word_dictionary[word] += 1\n",
    "        else : \n",
    "            word_dictionary[word] = 1"
   ]
  },
  {
   "cell_type": "code",
   "execution_count": 7,
   "metadata": {},
   "outputs": [
    {
     "name": "stdout",
     "output_type": "stream",
     "text": [
      "7908\n"
     ]
    }
   ],
   "source": [
    "word_dictionary_sorted = sorted(word_dictionary.items(), key = lambda item: item[1], reverse = True)\n",
    "\n",
    "word_Dict = []\n",
    "\n",
    "for key, value in word_dictionary_sorted :\n",
    "    word_Dict.append(key)\n",
    "\n",
    "print(len(word_Dict))"
   ]
  },
  {
   "cell_type": "code",
   "execution_count": 8,
   "metadata": {},
   "outputs": [],
   "source": [
    "word_Dict.insert(0, '!')\n",
    "word_Dict.insert(13, '<eos>')\n",
    "word_Dict.append('<unk>')"
   ]
  },
  {
   "cell_type": "code",
   "execution_count": 9,
   "metadata": {},
   "outputs": [],
   "source": [
    "file_name = None\n",
    "if Dataset == 'AudioCaps' :\n",
    "    file_name = 'AudioCaps_vocabulary_'\n",
    "elif Dataset == 'Clotho' :\n",
    "    file_name = 'Clotho_vocabulary_'\n",
    "\n",
    "file_name += (str(len(word_Dict)) + '.pickle')\n",
    "\n",
    "with open(file_name, 'wb') as f:\n",
    "    pickle.dump(word_Dict, f, pickle.HIGHEST_PROTOCOL)"
   ]
  },
  {
   "cell_type": "code",
   "execution_count": 10,
   "metadata": {},
   "outputs": [
    {
     "data": {
      "text/plain": [
       "7908"
      ]
     },
     "execution_count": 10,
     "metadata": {},
     "output_type": "execute_result"
    }
   ],
   "source": [
    "len(word_Dict)"
   ]
  }
 ],
 "metadata": {
  "interpreter": {
   "hash": "aac1938eb6913997aabd086dca6066ca74adbc6b4a9aafd1e6821241d3ac0498"
  },
  "kernelspec": {
   "display_name": "Python 3.8.8 ('base')",
   "language": "python",
   "name": "python3"
  },
  "language_info": {
   "codemirror_mode": {
    "name": "ipython",
    "version": 3
   },
   "file_extension": ".py",
   "mimetype": "text/x-python",
   "name": "python",
   "nbconvert_exporter": "python",
   "pygments_lexer": "ipython3",
   "version": "3.8.8"
  },
  "orig_nbformat": 4
 },
 "nbformat": 4,
 "nbformat_minor": 2
}
