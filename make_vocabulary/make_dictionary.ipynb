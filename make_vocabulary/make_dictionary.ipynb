{
 "cells": [
  {
   "cell_type": "code",
   "execution_count": 11,
   "metadata": {},
   "outputs": [],
   "source": [
    "import pandas as pd\n",
    "import re\n",
    "import pickle\n",
    "import string"
   ]
  },
  {
   "cell_type": "code",
   "execution_count": 12,
   "metadata": {},
   "outputs": [],
   "source": [
    "Dataset = 'Clotho' # or 'Clotho'"
   ]
  },
  {
   "cell_type": "code",
   "execution_count": 13,
   "metadata": {},
   "outputs": [],
   "source": [
    "def repair_caption(caption) :\n",
    "    caption = caption.replace(',', ' , ')\n",
    "    caption = re.sub(' +', ' ', caption)\n",
    "    caption = caption.replace(' ,', ',')\n",
    "\n",
    "    return caption"
   ]
  },
  {
   "cell_type": "code",
   "execution_count": 14,
   "metadata": {},
   "outputs": [
    {
     "name": "stdout",
     "output_type": "stream",
     "text": [
      "before repair : A man is heard speaking , then an alarm sounds, then a plane\n",
      "after repair : A man is heard speaking, then an alarm sounds, then a plane\n",
      "\n",
      "before repair : A distorted , beeping sound is being created by something.\n",
      "after repair : A distorted, beeping sound is being created by something.\n",
      "\n",
      "before repair : A  mechanic is working on his machinery and tools in his shop,\n",
      "after repair : A mechanic is working on his machinery and tools in his shop, \n",
      "\n",
      "before repair : A male voice is talking , rain in the background\n",
      "after repair : A male voice is talking, rain in the background\n",
      "\n",
      "before repair : A teacher removes  the writing from the chalkboard.\n",
      "after repair : A teacher removes the writing from the chalkboard.\n",
      "\n",
      "before repair : A variety of birds are chirping to each other,\n",
      "after repair : A variety of birds are chirping to each other, \n",
      "\n",
      "before repair : It is raining ,coming down on the roof and down on the patio close to the door.\n",
      "after repair : It is raining, coming down on the roof and down on the patio close to the door.\n",
      "\n",
      "before repair : A duck is quacking while other birds are chirping,\n",
      "after repair : A duck is quacking while other birds are chirping, \n",
      "\n",
      "before repair : A shower is on and a person is in the water,\n",
      "after repair : A shower is on and a person is in the water, \n",
      "\n",
      "before repair : A big vehicle is runs, people are talking in the background ,and something is beeping.\n",
      "after repair : A big vehicle is runs, people are talking in the background, and something is beeping.\n",
      "\n",
      "before repair : A constant , blaring siren is sounding nonstop, without a break.\n",
      "after repair : A constant, blaring siren is sounding nonstop, without a break.\n",
      "\n",
      "before repair : As cars are driving and birds are chirping, someone plays an instrument in the distance,\n",
      "after repair : As cars are driving and birds are chirping, someone plays an instrument in the distance, \n",
      "\n",
      "before repair : Someone is playing a drum with a steady and slow beat,\n",
      "after repair : Someone is playing a drum with a steady and slow beat, \n",
      "\n",
      "before repair : A loud bang while crickets chirp and whistle,\n",
      "after repair : A loud bang while crickets chirp and whistle, \n",
      "\n",
      "before repair : A machine is running, turns off, and turns back on,\n",
      "after repair : A machine is running, turns off, and turns back on, \n",
      "\n",
      "before repair : A track  is rolled over by a train as it rumbles.\n",
      "after repair : A track is rolled over by a train as it rumbles.\n",
      "\n",
      "before repair : A train that is coming down the tracks getting closer and closer,\n",
      "after repair : A train that is coming down the tracks getting closer and closer, \n",
      "\n",
      "before repair : Rain falling and thunder roaring , then no thunder, then more thunder.\n",
      "after repair : Rain falling and thunder roaring, then no thunder, then more thunder.\n",
      "\n",
      "before repair : Rain coming down on a highway with some cars passing by,\n",
      "after repair : Rain coming down on a highway with some cars passing by, \n",
      "\n",
      "before repair : Someone who is breaking a hard boiled egg,\n",
      "after repair : Someone who is breaking a hard boiled egg, \n",
      "\n",
      "before repair : Lots of feedback, similar to  computer noises, are generated.\n",
      "after repair : Lots of feedback, similar to computer noises, are generated.\n",
      "\n",
      "before repair : The creaking of something metallic and soft steps,\n",
      "after repair : The creaking of something metallic and soft steps, \n",
      "\n",
      "before repair : A train door slams , a train honks, train wheels rumble on the train tracks then they come to a halt.\n",
      "after repair : A train door slams, a train honks, train wheels rumble on the train tracks then they come to a halt.\n",
      "\n",
      "before repair : A train that is coming down the tracks is getting closer and closer,\n",
      "after repair : A train that is coming down the tracks is getting closer and closer, \n",
      "\n",
      "before repair : Water is flowing very fast through a river with a waterfall at the end of the  long distance.\n",
      "after repair : Water is flowing very fast through a river with a waterfall at the end of the long distance.\n",
      "\n",
      "before repair : Birds are tweeting and whistling together to each other,\n",
      "after repair : Birds are tweeting and whistling together to each other, \n",
      "\n",
      "before repair : Birds chirping outside while cars drive around nearby,\n",
      "after repair : Birds chirping outside while cars drive around nearby, \n",
      "\n",
      "before repair : Water running through a stream on the side of the road with people walking by,\n",
      "after repair : Water running through a stream on the side of the road with people walking by, \n",
      "\n",
      "before repair : The wind is blowing and increases in speed and fluctuates,\n",
      "after repair : The wind is blowing and increases in speed and fluctuates, \n",
      "\n",
      "before repair : Birds singing, wind blowing ,kids talking and playing\n",
      "after repair : Birds singing, wind blowing, kids talking and playing\n",
      "\n",
      "before repair : a motor starting up and running idle , then it turns off and nothing is heard\n",
      "after repair : a motor starting up and running idle, then it turns off and nothing is heard\n",
      "\n",
      "before repair : a faint sound like wind , and then a radio playing in the background,\n",
      "after repair : a faint sound like wind, and then a radio playing in the background, \n",
      "\n",
      "before repair : thumping sound repeatedly , thumping gets faster, thumping speeds up more\n",
      "after repair : thumping sound repeatedly, thumping gets faster, thumping speeds up more\n",
      "\n",
      "before repair : whistling and screeching sounds as the train comes down the tracks , then a loud noise\n",
      "after repair : whistling and screeching sounds as the train comes down the tracks, then a loud noise\n",
      "\n",
      "before repair : progressively loud siren being ran all the way through , no stopping\n",
      "after repair : progressively loud siren being ran all the way through, no stopping\n",
      "\n",
      "before repair : screeching as window is washed, door slams , then vacuum gets louder and then comes to a stop\n",
      "after repair : screeching as window is washed, door slams, then vacuum gets louder and then comes to a stop\n",
      "\n",
      "before repair : in a small inside room , person hitting with a tool on a wood\n",
      "after repair : in a small inside room, person hitting with a tool on a wood\n",
      "\n",
      "before repair : outside in nature, birds singing , a vehicle in a distance passing by\n",
      "after repair : outside in nature, birds singing, a vehicle in a distance passing by\n",
      "\n",
      "before repair : faint sound of birds chirping in the distance,\n",
      "after repair : faint sound of birds chirping in the distance, \n",
      "\n",
      "before repair : Walking slowly , snapping twigs and crunching leaves crickets chirping happily.\n",
      "after repair : Walking slowly, snapping twigs and crunching leaves crickets chirping happily.\n",
      "\n",
      "before repair : Water rushes into a metal sink basin from a faucet ,which is then turned off, and then drains.\n",
      "after repair : Water rushes into a metal sink basin from a faucet, which is then turned off, and then drains.\n",
      "\n"
     ]
    }
   ],
   "source": [
    "train_csv = None\n",
    "caption_list = []\n",
    "\n",
    "if Dataset == 'AudioCaps' :\n",
    "    train_csv = pd.read_csv('train.csv')\n",
    "\n",
    "    captions = train_csv['caption'].to_list()\n",
    "    for caption in captions:\n",
    "\n",
    "        edited_caption = repair_caption(caption)\n",
    "\n",
    "        if edited_caption != caption :\n",
    "            print(\"before repair :\", caption)\n",
    "            print(\"after repair :\", edited_caption)\n",
    "            print()\n",
    "\n",
    "        caption_list.append(caption)\n",
    "\n",
    "elif Dataset == 'Clotho' :\n",
    "    train_csv = pd.read_csv('clotho_captions_development.csv')\n",
    "\n",
    "    for i in range(5) :\n",
    "        col_str = 'caption_' + str(i + 1)\n",
    "    \n",
    "        captions = train_csv[col_str].to_list()\n",
    "        for caption in captions:\n",
    "\n",
    "            edited_caption = repair_caption(caption)\n",
    "\n",
    "            if edited_caption != caption :\n",
    "                print(\"before repair :\", caption)\n",
    "                print(\"after repair :\", edited_caption)\n",
    "                print()\n",
    "\n",
    "            caption_list.append(caption)\n",
    "\n",
    "\n",
    "    \n"
   ]
  },
  {
   "cell_type": "code",
   "execution_count": 15,
   "metadata": {},
   "outputs": [],
   "source": [
    "word_dictionary = {}\n",
    "\n",
    "for caption in caption_list :\n",
    "\n",
    "    caption = caption.lower()\n",
    "    \n",
    "    # 쉼표를 '안녕,하세요'와 같이 쓰는 사례가 많더라\n",
    "    # 얘들을 다 교정해준다 \n",
    "    # 교정========================================\n",
    "    caption = caption.replace(',', ' , ') \n",
    "    # 공백 줄이기\n",
    "    caption = re.sub(' +', ' ', caption)\n",
    "    caption = caption.replace(' ,', ',')\n",
    "    # 교정========================================\n",
    "\n",
    "    # For ACT Tokenizer\n",
    "    # caption = re.sub(r'\\s([,.!?;:\"](?:\\s|$))', r'\\1', caption).replace('  ', ' ')\n",
    "    # caption = re.sub('[,.!?;:\\\"]', ' ', caption).replace('  ', ' ')\n",
    "\n",
    "    # For Clotho tokenizer\n",
    "    caption = caption.translate(str.maketrans('', '', string.punctuation))\n",
    "\n",
    "    # For Custom Tokenizer1\n",
    "    # caption = re.sub(r'[.]', '', caption)\n",
    "    # caption += '.'\n",
    "\n",
    "    # For Custom Tokenizer2\n",
    "    # caption = re.sub(r'[.]', '', caption)\n",
    "\n",
    "    word_list = caption.strip().split(' ')\n",
    "\n",
    "    for word in word_list : \n",
    "        \n",
    "        # Custom Tokenizer2의 경우 사용================================\n",
    "        # if word in word_dictionary: \n",
    "        #     if word[-1] == ',' :\n",
    "        #         temp_word_wo_rest = word[:-1] # 쉼표 있으면 쉼표 제거\n",
    "        #         word_dictionary[temp_word_wo_rest] += 1\n",
    "        #         word_dictionary[','] += 1 # 쉼표를 따로 추가\n",
    "        #     else :\n",
    "        #         word_dictionary[word] += 1\n",
    "        # else : \n",
    "        #     if word[-1] == ',' :\n",
    "        #         temp_word_wo_rest = word[:-1] # 쉼표 있으면 쉼표 제거\n",
    "        #         word_dictionary[temp_word_wo_rest] = 1\n",
    "        #         word_dictionary[','] = 1\n",
    "        #     else :\n",
    "        #         word_dictionary[word] = 1\n",
    "        # Custom Tokenizer2의 경우 사용================================\n",
    "\n",
    "        if word in word_dictionary: \n",
    "            word_dictionary[word] += 1\n",
    "        else : \n",
    "            word_dictionary[word] = 1"
   ]
  },
  {
   "cell_type": "code",
   "execution_count": 16,
   "metadata": {},
   "outputs": [],
   "source": [
    "word_dictionary_sorted = sorted(word_dictionary.items(), key = lambda item: item[1], reverse = True)\n",
    "\n",
    "word_Dict = []\n",
    "\n",
    "# 단어만 담기\n",
    "# 그러면 등장 빈도수가 높은 단어부터 나열되는 딕셔너리가 완성됨\n",
    "for key, value in word_dictionary_sorted :\n",
    "    word_Dict.append(key)"
   ]
  },
  {
   "cell_type": "code",
   "execution_count": 17,
   "metadata": {},
   "outputs": [],
   "source": [
    "# GPT-2는 vocab의 맨 첫 idx의 값을 \"!\"로 했다. 나도 그렇게 해야겠다.\n",
    "# 그리고 GPT-2는 문장의 마무리라 할 수 있는 마침표('.')의 idx를 13으로 했다. 나는 문장의 마무리를 <eos>로 해야겠다. \n",
    "word_Dict.insert(0, '!')\n",
    "word_Dict.insert(13, '<eos>')\n",
    "word_Dict.append('<unk>')"
   ]
  },
  {
   "cell_type": "code",
   "execution_count": 18,
   "metadata": {},
   "outputs": [],
   "source": [
    "file_name = None\n",
    "if Dataset == 'AudioCaps' :\n",
    "    file_name = 'AudioCaps_vocabulary_'\n",
    "elif Dataset == 'Clotho' :\n",
    "    file_name = 'Clotho_vocabulary_'\n",
    "\n",
    "file_name += (str(len(word_Dict)) + '.pickle')\n",
    "\n",
    "with open(file_name, 'wb') as f:\n",
    "    pickle.dump(word_Dict, f, pickle.HIGHEST_PROTOCOL)"
   ]
  },
  {
   "cell_type": "code",
   "execution_count": 19,
   "metadata": {},
   "outputs": [
    {
     "data": {
      "text/plain": [
       "4368"
      ]
     },
     "execution_count": 19,
     "metadata": {},
     "output_type": "execute_result"
    }
   ],
   "source": [
    "len(word_Dict)"
   ]
  },
  {
   "cell_type": "code",
   "execution_count": 24,
   "metadata": {},
   "outputs": [
    {
     "name": "stdout",
     "output_type": "stream",
     "text": [
      "walkietalkie walkie-talkie\n"
     ]
    }
   ],
   "source": [
    "for i in range(len(word_Dict)) :\n",
    "    if word_Dict[i] != word_Dict_act[i] :\n",
    "        print(word_Dict[i], word_Dict_act[i])"
   ]
  },
  {
   "cell_type": "code",
   "execution_count": 26,
   "metadata": {},
   "outputs": [
    {
     "data": {
      "text/plain": [
       "3650"
      ]
     },
     "execution_count": 26,
     "metadata": {},
     "output_type": "execute_result"
    }
   ],
   "source": [
    "word_Dict.index('walkietalkie')"
   ]
  },
  {
   "cell_type": "code",
   "execution_count": 27,
   "metadata": {},
   "outputs": [
    {
     "data": {
      "text/plain": [
       "3650"
      ]
     },
     "execution_count": 27,
     "metadata": {},
     "output_type": "execute_result"
    }
   ],
   "source": [
    "word_Dict_act.index('walkie-talkie')"
   ]
  },
  {
   "cell_type": "code",
   "execution_count": null,
   "metadata": {},
   "outputs": [],
   "source": []
  }
 ],
 "metadata": {
  "interpreter": {
   "hash": "aac1938eb6913997aabd086dca6066ca74adbc6b4a9aafd1e6821241d3ac0498"
  },
  "kernelspec": {
   "display_name": "Python 3.8.8 ('base')",
   "language": "python",
   "name": "python3"
  },
  "language_info": {
   "codemirror_mode": {
    "name": "ipython",
    "version": 3
   },
   "file_extension": ".py",
   "mimetype": "text/x-python",
   "name": "python",
   "nbconvert_exporter": "python",
   "pygments_lexer": "ipython3",
   "version": "3.8.8"
  },
  "orig_nbformat": 4
 },
 "nbformat": 4,
 "nbformat_minor": 2
}
