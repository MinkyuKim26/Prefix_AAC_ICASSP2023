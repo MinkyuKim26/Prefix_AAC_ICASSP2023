{
 "cells": [
  {
   "cell_type": "code",
   "execution_count": 1,
   "metadata": {},
   "outputs": [
    {
     "name": "stderr",
     "output_type": "stream",
     "text": [
      "get dataset...:   0%|                                   | 0/960 [00:00<?, ?it/s]"
     ]
    },
    {
     "name": "stdout",
     "output_type": "stream",
     "text": [
      "audio feature's mapping network : num_head = 8 num_layers = 4\n",
      "semantic feature ver1's mapping network : num_head = 8 num_layers = 4\n",
      "GPT2 freezing\n"
     ]
    },
    {
     "data": {
      "text/plain": [
       "<All keys matched successfully>"
      ]
     },
     "execution_count": 1,
     "metadata": {},
     "output_type": "execute_result"
    }
   ],
   "source": [
    "import sys\n",
    "import torch\n",
    "# custom\n",
    "from AudioCaps.AudioCaps_Dataset import * # 데이터셋\n",
    "from transformers import GPT2Tokenizer\n",
    "from ClipCap_forAAC.CLIPCAP_forAAC import * # network\n",
    "from Train import *\n",
    "import warnings\n",
    "import string\n",
    "warnings.filterwarnings(\"ignore\", category=DeprecationWarning) \n",
    "\n",
    "\n",
    "# PANNs를 써먹기 위해 prefix_size를 수정\n",
    "audio_prefix_size = 15\n",
    "semantic_prefix_size = 11 # 기존의 Semantic mapping network를 사용시\n",
    "# semantic_prefix_size = 10 # 새로운 Semantic mapping network를 사용시\n",
    "prefix_size = audio_prefix_size + semantic_prefix_size\n",
    "transformer_num_layers = {\"audio_num_layers\" : 4 , \"semantic_num_layers\" : 4}\n",
    "prefix_size_dict = {\"audio_prefix_size\" : audio_prefix_size, \"semantic_prefix_size\" : semantic_prefix_size}\n",
    "\n",
    "USE_CUDA = torch.cuda.is_available() \n",
    "device = torch.device('cuda:0' if USE_CUDA else 'cpu')\n",
    "\n",
    "# 4992 : Clotho Tokenizer\n",
    "# 5069 : ACT Tokenizer\n",
    "# 7911 : Custom Tokenizer1\n",
    "# 5084 : Custom Tokenizer2\n",
    "\n",
    "vocab_size = 7911\n",
    "tokenizer_type = None\n",
    "\n",
    "if vocab_size == None :\n",
    "    tokenizer = GPT2Tokenizer.from_pretrained(\"gpt2\")\n",
    "    tokenizer_type = 'GPT2'\n",
    "else :\n",
    "    tokenizer = tokenizer_AudioCaps(vocab_size)\n",
    "    tokenizer_type = 'Custom'\n",
    "\n",
    "data_dir = './AudioCaps'\n",
    "\n",
    "TEST_BATCH_SIZE = 5\n",
    "test_dataloader  = dataloader_AudioCapsDataset(tokenizer, data_dir, TEST_BATCH_SIZE, split = 'test', prefix_size = prefix_size, is_TrainDataset = False, tokenizer_type = 'Custom')\n",
    "\n",
    "model = get_ClipCap_AAC(tokenizer, vocab_size = vocab_size, Dataset = 'AudioCaps',\n",
    "                        prefix_size_dict = prefix_size_dict, transformer_num_layers = transformer_num_layers, \n",
    "                        encoder_freeze = False, decoder_freeze = True,\n",
    "                        pretrain_fromAudioCaps = False, device = device)\n",
    "\n",
    "\n",
    "# model_name = 'model_AudioCaps_GPT2_header_freezing.pt'\n",
    "model_name = 'model_AudioCaps_Custom_' + str(vocab_size) + '.pt'\n",
    "model.load_state_dict(torch.load(\"./Trained_model_params/\" + model_name))"
   ]
  },
  {
   "cell_type": "code",
   "execution_count": 2,
   "metadata": {},
   "outputs": [],
   "source": [
    "def get_pred_captions(model, test_dataloader, device) :\n",
    "    model.eval()\n",
    "    model.to(device)\n",
    "\n",
    "    # 모아놨다가 한 번에 평가하자\n",
    "    captions_pred: List[Dict] = []\n",
    "    captions_gt: List[Dict] = []\n",
    "    \n",
    "    for i, (audio, _, f_names) in enumerate(tqdm(test_dataloader, desc=\"Get Caption...\")):\n",
    "        with torch.no_grad():\n",
    "            # 하나의 raw audio에 대해 5개의 caption이 등장\n",
    "            \n",
    "            # Test dataset은 audio, caption의 비율이 1:5다 \n",
    "            # Batch size를 5로 설정했음. 0번 인덱스 값만 사용할거임\n",
    "            audio = audio.to(device)\n",
    "            \n",
    "            audio = audio[0,:].unsqueeze(0)\n",
    "            \n",
    "            pred_caption = model(audio, None, beam_search = True)[0][0]\n",
    "\n",
    "        captions_pred.append({\n",
    "                        'file_name': f_names[0], \n",
    "                        'caption_predicted': pred_caption})\n",
    "    \n",
    "    \n",
    "    return captions_pred"
   ]
  },
  {
   "cell_type": "code",
   "execution_count": 3,
   "metadata": {},
   "outputs": [
    {
     "name": "stderr",
     "output_type": "stream",
     "text": [
      "Get Caption...: 100%|█████████████████████████| 957/957 [01:41<00:00,  9.44it/s]\n"
     ]
    }
   ],
   "source": [
    "captions_pred = get_pred_captions(model, test_dataloader, device)"
   ]
  },
  {
   "cell_type": "code",
   "execution_count": 4,
   "metadata": {},
   "outputs": [],
   "source": [
    "word_dictionary = {}\n",
    "\n",
    "for values in captions_pred :\n",
    "    caption = values['caption_predicted']\n",
    "    caption = caption.translate(str.maketrans('', '', string.punctuation))\n",
    "    word_list = caption.split(' ')\n",
    "    for word in word_list :\n",
    "        if word in word_dictionary: \n",
    "            word_dictionary[word] += 1\n",
    "        else : \n",
    "            word_dictionary[word] = 1"
   ]
  },
  {
   "cell_type": "code",
   "execution_count": 5,
   "metadata": {},
   "outputs": [
    {
     "data": {
      "text/plain": [
       "354"
      ]
     },
     "execution_count": 5,
     "metadata": {},
     "output_type": "execute_result"
    }
   ],
   "source": [
    "len(word_dictionary)"
   ]
  },
  {
   "cell_type": "code",
   "execution_count": null,
   "metadata": {},
   "outputs": [],
   "source": []
  }
 ],
 "metadata": {
  "kernelspec": {
   "display_name": "Python 3.9.7 64-bit ('PyTorch_p39': conda)",
   "language": "python",
   "name": "python397jvsc74a57bd00a3337c5d7c618b6fb9fafab877a80de5390e792b0cd30d4694a9edc6ed4ede3"
  },
  "language_info": {
   "codemirror_mode": {
    "name": "ipython",
    "version": 3
   },
   "file_extension": ".py",
   "mimetype": "text/x-python",
   "name": "python",
   "nbconvert_exporter": "python",
   "pygments_lexer": "ipython3",
   "version": "3.9.7"
  }
 },
 "nbformat": 4,
 "nbformat_minor": 4
}
